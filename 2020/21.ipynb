{
 "cells": [
  {
   "cell_type": "code",
   "execution_count": 265,
   "metadata": {},
   "outputs": [],
   "source": [
    "DATA = \"\"\"\n",
    "mxmxvkd kfcds sqjhc nhms (contains dairy, fish)\n",
    "trh fvjkl sbzzf mxmxvkd (contains dairy)\n",
    "sqjhc fvjkl (contains soy)\n",
    "sqjhc mxmxvkd sbzzf (contains fish)\n",
    "\"\"\".strip()"
   ]
  },
  {
   "cell_type": "code",
   "execution_count": 266,
   "metadata": {},
   "outputs": [],
   "source": [
    "import numpy as np\n",
    "import six\n",
    "import re\n",
    "from itertools import product"
   ]
  },
  {
   "cell_type": "code",
   "execution_count": 267,
   "metadata": {},
   "outputs": [],
   "source": [
    "class Solver:\n",
    "    \n",
    "    \"\"\"Utility to solve AoC's 2020 21st task.\"\"\"\n",
    "    \n",
    "    def __init__(self, data):\n",
    "        \n",
    "        \"\"\"\n",
    "        Initialises the utility given the task's textual input;\n",
    "        it should be in the format\n",
    "        \n",
    "            ingredient1, ingredient2, ..., ingredientN (contains allergen1, allergen2, ..., allergenM)\n",
    "            ...\n",
    "            \n",
    "        with M <= N.\n",
    "        \n",
    "        :param data: str            \n",
    "        \"\"\"\n",
    "        \n",
    "        # Store the ingredient allergen information as tuples for each line;\n",
    "        \n",
    "        items = []\n",
    "        for line in data.splitlines():\n",
    "            ingredients, allergens = line.split(' (contains ')\n",
    "            allergens = allergens[:-1].split(', ')\n",
    "            ingredients = ingredients.split(' ')\n",
    "            items.append((set(ingredients), set(allergens)))            \n",
    "        self.items = items\n",
    "    \n",
    "    def solve(self):\n",
    "        \n",
    "        \"\"\"\n",
    "        Solves both tasks by first finding the unique mapping between\n",
    "        ingredients and allergens.\n",
    "        \n",
    "        :return: occurrencesOfSafeIngredients:int, dangerousIngredients:str\n",
    "        \"\"\"\n",
    "        \n",
    "        # First, the mapping between all allergens and all the potential\n",
    "        # ingredients in which they are contained is formed; this is the\n",
    "        # intersection of all ingredients which appeared in a line in which\n",
    "        # the allergen appeared; while it would be a one-to-many mapping\n",
    "        # at first, this can be refined later;\n",
    "        \n",
    "        allergenToIngredients = {}\n",
    "        occurrences = {}\n",
    "        \n",
    "        for ingredients, allergens in self.items:\n",
    "            for ingredient in ingredients:\n",
    "                occurrences[ingredient] = occurrences.get(ingredient, 0) + 1\n",
    "            for allergen in allergens:\n",
    "                if allergen not in allergenToIngredients: allergenToIngredients[allergen] = set(ingredients)\n",
    "                else: allergenToIngredients[allergen] = allergenToIngredients[allergen].intersection(set(ingredients))\n",
    "                    \n",
    "        # Pre-conditions for determining the one-to-one mapping are that\n",
    "        # (1) the mapping must exist and (2) the input should contain\n",
    "        # enough information to narrow it down from the one-to-many mapping;\n",
    "        # if that is the case, there should at first be an allergen already\n",
    "        # mapped to a single ingredient, so that ingredient can be removed\n",
    "        # from all other allergens. By iteratively repeating this, the final\n",
    "        # mapping should eventually be found.\n",
    "                    \n",
    "        while not all(len(ingredients) == 1 for ingredients in six.itervalues(allergenToIngredients)):            \n",
    "            for allergen, ingredients in six.iteritems(dict(allergenToIngredients)):\n",
    "                if len(ingredients) == 1:\n",
    "                    ingredient = list(ingredients)[0]\n",
    "                    for a, ingredients in six.iteritems(dict(allergenToIngredients)):\n",
    "                        if a == allergen: continue\n",
    "                        allergenToIngredients[a] = ingredients.difference({ingredient,})\n",
    "        \n",
    "        allergenToIngredient = {allergen: list(ingredients)[0] for allergen, ingredients in six.iteritems(allergenToIngredients)}\n",
    "        ingredientToAllergen = {ingredient: allergen for allergen, ingredient in six.iteritems(allergenToIngredient)}\n",
    "        \n",
    "        safeIngredients = {ingredient for ingredient in occurrences if ingredient not in six.itervalues(allergenToIngredient)}\n",
    "        occurrencesOfSafeIngredients = sum(occurrences[i] for i in safeIngredients)\n",
    "        \n",
    "        dangerous = []\n",
    "        for ingredient in sorted(ingredientToAllergen, key=lambda x: ingredientToAllergen[x]):\n",
    "            dangerous.append(ingredient)\n",
    "        dangerous = ','.join(dangerous)\n",
    "        \n",
    "        return occurrencesOfSafeIngredients, dangerous"
   ]
  },
  {
   "cell_type": "code",
   "execution_count": 268,
   "metadata": {},
   "outputs": [],
   "source": [
    "s = Solver(DATA)"
   ]
  },
  {
   "cell_type": "code",
   "execution_count": 269,
   "metadata": {},
   "outputs": [
    {
     "data": {
      "text/plain": [
       "(5, 'mxmxvkd,sqjhc,fvjkl')"
      ]
     },
     "execution_count": 269,
     "metadata": {},
     "output_type": "execute_result"
    }
   ],
   "source": [
    "s.solve()"
   ]
  }
 ],
 "metadata": {
  "kernelspec": {
   "display_name": "Python 3",
   "language": "python",
   "name": "python3"
  },
  "language_info": {
   "codemirror_mode": {
    "name": "ipython",
    "version": 3
   },
   "file_extension": ".py",
   "mimetype": "text/x-python",
   "name": "python",
   "nbconvert_exporter": "python",
   "pygments_lexer": "ipython3",
   "version": "3.8.2"
  }
 },
 "nbformat": 4,
 "nbformat_minor": 4
}
