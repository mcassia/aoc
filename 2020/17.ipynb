{
 "cells": [
  {
   "cell_type": "code",
   "execution_count": 14,
   "metadata": {},
   "outputs": [],
   "source": [
    "import numpy as np\n",
    "import six\n",
    "from itertools import product"
   ]
  },
  {
   "cell_type": "code",
   "execution_count": 3,
   "metadata": {},
   "outputs": [],
   "source": [
    "DATA = \"\"\"\n",
    ".#.\n",
    "..#\n",
    "###\n",
    "\"\"\".strip()"
   ]
  },
  {
   "cell_type": "code",
   "execution_count": 111,
   "metadata": {},
   "outputs": [],
   "source": [
    "class Solver:\n",
    "    \n",
    "    def __init__(self, layer):\n",
    "        self.layout = {}\n",
    "        for y, row in enumerate(layer.splitlines()):\n",
    "            for x, value in enumerate(row):\n",
    "                self.layout[(x, y, 0)] = value == '#'\n",
    "        \n",
    "    def __str__(self):\n",
    "        s = \"\"\n",
    "        for z in self.depths:\n",
    "            s += ' Depth: ' + str(z) + '\\n'\n",
    "            for y in self.heights:\n",
    "                for x in self.widths:\n",
    "                    s += '#' if self.read(x, y, z) else '.'\n",
    "                s += '\\n'\n",
    "            s += '\\n\\n'\n",
    "        return s\n",
    "                \n",
    "        \n",
    "    @property\n",
    "    def depths(self):\n",
    "        return sorted(set(z for _, _, z in self.layout))\n",
    "    \n",
    "    @property\n",
    "    def widths(self):\n",
    "        return sorted(set(x for x, _, _ in self.layout))\n",
    "    \n",
    "    @property\n",
    "    def heights(self):\n",
    "        return sorted(set(y for _, y, _ in self.layout))\n",
    "                \n",
    "    def read(self, x, y, z):\n",
    "        return self.layout.get((x, y, z), False)\n",
    "    \n",
    "    def flip(self, x, y, z):\n",
    "        self.layout[(x, y, z)] = not self.layout[(x, y, z)]\n",
    "                \n",
    "    def neighbours(self, x, y, z):\n",
    "        for i, (dx, dy, dz) in enumerate(product((-1, 0, +1), (-1, 0, +1), (-1, 0, +1))):\n",
    "            if (dx, dy, dz) == (0, 0, 0): continue\n",
    "            nx, ny, nz = x + dx, y + dy, z + dz\n",
    "            yield (nx, ny, nz), self.read(nx, ny, nz)\n",
    "    \n",
    "    def step(self):\n",
    "        \n",
    "        toCreate = set()\n",
    "        for (x, y, z), v in six.iteritems(self.layout):\n",
    "            if not v: continue\n",
    "            neighbours = list(self.neighbours(x, y, z))\n",
    "            for (nx, ny, nz), _ in neighbours:\n",
    "                if (nx, ny, nz) not in self.layout:\n",
    "                    toCreate.add((nx, ny, nz))\n",
    "        for (x, y, z) in toCreate:\n",
    "            self.layout[(x, y, z)] = False\n",
    "            \n",
    "        toFlip = set()\n",
    "        \n",
    "        for (x, y, z), v in six.iteritems(self.layout):\n",
    "            neighbours = list(self.neighbours(x, y, z))\n",
    "            numberOfActiveNeighbours = sum(isActive for _, isActive in neighbours)\n",
    "            if v and numberOfActiveNeighbours not in (2, 3):\n",
    "                toFlip.add((x, y, z))\n",
    "            elif not v and numberOfActiveNeighbours == 3:\n",
    "                toFlip.add((x, y, z))\n",
    "        print(toFlip)\n",
    "        for (x, y, z) in toFlip:\n",
    "            self.flip(x, y, z)\n",
    "            \n",
    "    def count(self):\n",
    "        return sum(six.itervalues(self.layout))"
   ]
  },
  {
   "cell_type": "code",
   "execution_count": 112,
   "metadata": {},
   "outputs": [
    {
     "name": "stdout",
     "output_type": "stream",
     "text": [
      " Depth: 0\n",
      ".#.\n",
      "..#\n",
      "###\n",
      "\n",
      "\n",
      "\n",
      "{(0, 1, 0), (0, 2, 0), (1, 3, 1), (1, 3, -1), (1, 0, 0), (2, 2, -1), (2, 2, 1), (1, 3, 0), (0, 1, -1), (0, 1, 1)}\n",
      " Depth: -1\n",
      ".....\n",
      ".....\n",
      ".#...\n",
      "...#.\n",
      "..#..\n",
      "\n",
      "\n",
      " Depth: 0\n",
      ".....\n",
      ".....\n",
      ".#.#.\n",
      "..##.\n",
      "..#..\n",
      "\n",
      "\n",
      " Depth: 1\n",
      ".....\n",
      ".....\n",
      ".#...\n",
      "...#.\n",
      "..#..\n",
      "\n",
      "\n",
      "\n"
     ]
    }
   ],
   "source": [
    "z = Solver(DATA)\n",
    "print(z)\n",
    "z.step()\n",
    "print(z)"
   ]
  },
  {
   "cell_type": "code",
   "execution_count": null,
   "metadata": {},
   "outputs": [],
   "source": []
  },
  {
   "cell_type": "code",
   "execution_count": null,
   "metadata": {},
   "outputs": [],
   "source": []
  },
  {
   "cell_type": "code",
   "execution_count": null,
   "metadata": {},
   "outputs": [],
   "source": []
  },
  {
   "cell_type": "code",
   "execution_count": null,
   "metadata": {},
   "outputs": [],
   "source": []
  },
  {
   "cell_type": "code",
   "execution_count": null,
   "metadata": {},
   "outputs": [],
   "source": []
  },
  {
   "cell_type": "code",
   "execution_count": null,
   "metadata": {},
   "outputs": [],
   "source": []
  },
  {
   "cell_type": "code",
   "execution_count": null,
   "metadata": {},
   "outputs": [],
   "source": []
  },
  {
   "cell_type": "code",
   "execution_count": null,
   "metadata": {},
   "outputs": [],
   "source": []
  },
  {
   "cell_type": "code",
   "execution_count": null,
   "metadata": {},
   "outputs": [],
   "source": []
  },
  {
   "cell_type": "code",
   "execution_count": null,
   "metadata": {},
   "outputs": [],
   "source": []
  },
  {
   "cell_type": "code",
   "execution_count": null,
   "metadata": {},
   "outputs": [],
   "source": []
  },
  {
   "cell_type": "code",
   "execution_count": null,
   "metadata": {},
   "outputs": [],
   "source": []
  },
  {
   "cell_type": "code",
   "execution_count": null,
   "metadata": {},
   "outputs": [],
   "source": []
  },
  {
   "cell_type": "code",
   "execution_count": null,
   "metadata": {},
   "outputs": [],
   "source": []
  },
  {
   "cell_type": "code",
   "execution_count": null,
   "metadata": {},
   "outputs": [],
   "source": []
  },
  {
   "cell_type": "code",
   "execution_count": null,
   "metadata": {},
   "outputs": [],
   "source": []
  }
 ],
 "metadata": {
  "kernelspec": {
   "display_name": "Python 3",
   "language": "python",
   "name": "python3"
  },
  "language_info": {
   "codemirror_mode": {
    "name": "ipython",
    "version": 3
   },
   "file_extension": ".py",
   "mimetype": "text/x-python",
   "name": "python",
   "nbconvert_exporter": "python",
   "pygments_lexer": "ipython3",
   "version": "3.8.2"
  }
 },
 "nbformat": 4,
 "nbformat_minor": 4
}
