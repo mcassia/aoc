{
 "cells": [
  {
   "cell_type": "code",
   "execution_count": 172,
   "metadata": {},
   "outputs": [],
   "source": [
    "import six\n",
    "from itertools import product"
   ]
  },
  {
   "cell_type": "code",
   "execution_count": 173,
   "metadata": {},
   "outputs": [],
   "source": [
    "DATA = \"\"\"\n",
    ".#.\n",
    "..#\n",
    "###\n",
    "\"\"\".strip()"
   ]
  },
  {
   "cell_type": "code",
   "execution_count": 174,
   "metadata": {},
   "outputs": [],
   "source": [
    "class HyperSpace:\n",
    "    \n",
    "    \"\"\"\n",
    "    Utility to solve AoC's 17th puzzle of 2020; it stores\n",
    "    a representation of a D-dimensional space populated by\n",
    "    active and inactive cubes, which at any time step update\n",
    "    their state based on a set of given rules.\n",
    "    \"\"\"\n",
    "    \n",
    "    def __init__(self, layer, numberOfDimensions=3):\n",
    "        \n",
    "        \"\"\"\n",
    "        Initialises the hyperspace with a single\n",
    "        2-dimensional slice.\n",
    "        \n",
    "        :param layer: list(list(str,))\n",
    "        :param numberOfDimensions: int\n",
    "        \"\"\"\n",
    "        \n",
    "        self.numberOfDimensions = numberOfDimensions\n",
    "        \n",
    "        # The internal data is stored as a mapping of coordinates\n",
    "        # to whether they are active; this was chosen over an array-based\n",
    "        # or tensor-like structure arbitrarily, but higher performance\n",
    "        # is certainly achievable adopting one of the above;\n",
    "        \n",
    "        self.layout = {}\n",
    "        for y, row in enumerate(layer.splitlines()):\n",
    "            for x, value in enumerate(row):\n",
    "                loc = [x, y] + [0 for _ in range(numberOfDimensions - 2)]\n",
    "                loc = tuple(loc)\n",
    "                self.layout[loc] = value == '#'\n",
    "                \n",
    "    def read(self, *coordinates):\n",
    "        \n",
    "        \"\"\"\n",
    "        Returns the value found at the given coordinates.\n",
    "        \n",
    "        :param coordinates: (int,)\n",
    "        :return: bool\n",
    "        \"\"\"\n",
    "        \n",
    "        # Given the hyperspace is infinite, if the coordinates\n",
    "        # are not found in the layout, the default inactive\n",
    "        # value is returned;\n",
    "        \n",
    "        return self.layout.get(coordinates, False)\n",
    "    \n",
    "    def flip(self, *coordinates):\n",
    "        \n",
    "        \"\"\"\n",
    "        Flips the state of a coordinate in the hyperspace.\n",
    "        \n",
    "        :param coordinates: (int,)\n",
    "        \"\"\"\n",
    "        \n",
    "        self.layout[coordinates] = not self.layout[coordinates]\n",
    "                \n",
    "    def neighbours(self, *coordinates):\n",
    "        \n",
    "        \"\"\"\n",
    "        Yields the coordinates and states of all the neighbours\n",
    "        of the given coordinate.\n",
    "        \n",
    "        :param coordinates: (int,)\n",
    "        :yield: neighbourCoordinates:tuple(int,), isActive:bool\n",
    "        \"\"\"\n",
    "        \n",
    "        # To find the neighbours, the (Cartesian) product of the\n",
    "        # unit displacement in all dimension is considered, but\n",
    "        # excluding the null displacement as it would consider\n",
    "        # the given coordinates as a neeighbour;\n",
    "        \n",
    "        for delta in product(*[(-1, 0, +1) for _ in range(self.numberOfDimensions)]):\n",
    "            if all(v == 0 for v in delta): continue\n",
    "            neighbourLoc = []\n",
    "            for x, dx in zip(coordinates, delta): neighbourLoc.append(x + dx)\n",
    "            neighbourLoc = tuple(neighbourLoc)\n",
    "            yield neighbourLoc, self.read(*neighbourLoc)\n",
    "            \n",
    "    def takeSteps(self, n):\n",
    "        \"\"\"\n",
    "        Performs a timestep in the hyperspace and updates the\n",
    "        state of every cube based on the given rules.\n",
    "        \"\"\"\n",
    "        for _ in range(n): self._step()\n",
    "        return self\n",
    "    \n",
    "    def _step(self):\n",
    "        \n",
    "        # First, all the coordinates (out of the infinitely\n",
    "        # available locations) which might need updating\n",
    "        # are found; these are all the explicitly encountered\n",
    "        # locations so far with the addition (set union) of all\n",
    "        # their neighbours; this is because, as per the given\n",
    "        # rules, an inactive cube (which is the default in the\n",
    "        # hyperspace) will only update if it has exactly three\n",
    "        # active neighbours, hence only direct neighbours of\n",
    "        # active known cubes are considered. Once found all\n",
    "        # the new cubes, explicitly write them in the layout;\n",
    "        \n",
    "        toCreate = set()\n",
    "        for coordinates, v in six.iteritems(self.layout):\n",
    "            if not v: continue\n",
    "            neighbours = list(self.neighbours(*coordinates))\n",
    "            for coordinates, _ in neighbours:\n",
    "                if coordinates not in self.layout:\n",
    "                    toCreate.add(coordinates)\n",
    "        for coordinates in toCreate:\n",
    "            self.layout[coordinates] = False\n",
    "            \n",
    "        # For all known locations, determine whether their\n",
    "        # values needs updating and store the result in a\n",
    "        # temporary set (this allows updating 'simultaneously');\n",
    "        \n",
    "        toFlip = set()\n",
    "        for coordinates, v in six.iteritems(self.layout):\n",
    "            neighbours = list(self.neighbours(*coordinates))\n",
    "            numberOfActiveNeighbours = sum(isActive for _, isActive in neighbours)\n",
    "            if v and numberOfActiveNeighbours not in (2, 3): toFlip.add(coordinates)\n",
    "            elif not v and numberOfActiveNeighbours == 3: toFlip.add(coordinates)\n",
    "\n",
    "        for coordinates in toFlip: self.flip(*coordinates)\n",
    "            \n",
    "    def count(self):\n",
    "        \"\"\"\n",
    "        Retrieves how many active cubes there are in the hyperspace.\n",
    "        \n",
    "        :return: int\n",
    "        \"\"\"\n",
    "        return sum(six.itervalues(self.layout))"
   ]
  },
  {
   "cell_type": "code",
   "execution_count": 175,
   "metadata": {},
   "outputs": [
    {
     "data": {
      "text/plain": [
       "112"
      ]
     },
     "execution_count": 175,
     "metadata": {},
     "output_type": "execute_result"
    }
   ],
   "source": [
    "HyperSpace(DATA, numberOfDimensions=3).takeSteps(6).count()"
   ]
  },
  {
   "cell_type": "code",
   "execution_count": 176,
   "metadata": {},
   "outputs": [
    {
     "data": {
      "text/plain": [
       "848"
      ]
     },
     "execution_count": 176,
     "metadata": {},
     "output_type": "execute_result"
    }
   ],
   "source": [
    "HyperSpace(DATA, numberOfDimensions=4).takeSteps(6).count()"
   ]
  },
  {
   "cell_type": "code",
   "execution_count": null,
   "metadata": {},
   "outputs": [],
   "source": []
  }
 ],
 "metadata": {
  "kernelspec": {
   "display_name": "Python 3",
   "language": "python",
   "name": "python3"
  },
  "language_info": {
   "codemirror_mode": {
    "name": "ipython",
    "version": 3
   },
   "file_extension": ".py",
   "mimetype": "text/x-python",
   "name": "python",
   "nbconvert_exporter": "python",
   "pygments_lexer": "ipython3",
   "version": "3.8.2"
  }
 },
 "nbformat": 4,
 "nbformat_minor": 4
}
