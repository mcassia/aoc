{
 "cells": [
  {
   "cell_type": "code",
   "execution_count": 14,
   "metadata": {},
   "outputs": [],
   "source": [
    "import numpy as np\n",
    "import six\n",
    "from itertools import product"
   ]
  },
  {
   "cell_type": "code",
   "execution_count": 124,
   "metadata": {},
   "outputs": [],
   "source": [
    "DATA = \"\"\"\n",
    "#.#..#.#\n",
    "#.......\n",
    "####..#.\n",
    ".#.#.##.\n",
    "..#..#..\n",
    "###..##.\n",
    ".#..##.#\n",
    ".....#..\n",
    "\"\"\".strip()"
   ]
  },
  {
   "cell_type": "code",
   "execution_count": 119,
   "metadata": {},
   "outputs": [],
   "source": [
    "DATA = \"\"\"\n",
    ".#.\n",
    "..#\n",
    "###\n",
    "\"\"\".strip()"
   ]
  },
  {
   "cell_type": "code",
   "execution_count": 125,
   "metadata": {},
   "outputs": [],
   "source": [
    "class Solver:\n",
    "    \n",
    "    def __init__(self, layer):\n",
    "        self.layout = {}\n",
    "        for y, row in enumerate(layer.splitlines()):\n",
    "            for x, value in enumerate(row):\n",
    "                self.layout[(x, y, 0, 0)] = value == '#'\n",
    "                \n",
    "    def read(self, x, y, z, w):\n",
    "        return self.layout.get((x, y, z, w), False)\n",
    "    \n",
    "    def flip(self, x, y, z, w):\n",
    "        self.layout[(x, y, z, w)] = not self.layout[(x, y, z, w)]\n",
    "                \n",
    "    def neighbours(self, x, y, z, w):\n",
    "        for i, (dx, dy, dz, dw) in enumerate(product((-1, 0, +1), (-1, 0, +1), (-1, 0, +1), (-1, 0, +1))):\n",
    "            if (dx, dy, dz, dw) == (0, 0, 0, 0): continue\n",
    "            nx, ny, nz, nw = x + dx, y + dy, z + dz, w + dw\n",
    "            yield (nx, ny, nz, nw), self.read(nx, ny, nz, nw)\n",
    "    \n",
    "    def step(self):\n",
    "        \n",
    "        toCreate = set()\n",
    "        for (x, y, z, w), v in six.iteritems(self.layout):\n",
    "            if not v: continue\n",
    "            neighbours = list(self.neighbours(x, y, z, w))\n",
    "            for (nx, ny, nz, nw), _ in neighbours:\n",
    "                if (nx, ny, nz, nw) not in self.layout:\n",
    "                    toCreate.add((nx, ny, nz, nw))\n",
    "        for (x, y, z, w) in toCreate:\n",
    "            self.layout[(x, y, z, w)] = False\n",
    "            \n",
    "        toFlip = set()\n",
    "        \n",
    "        for (x, y, z, w), v in six.iteritems(self.layout):\n",
    "            neighbours = list(self.neighbours(x, y, z, w))\n",
    "            numberOfActiveNeighbours = sum(isActive for _, isActive in neighbours)\n",
    "            if v and numberOfActiveNeighbours not in (2, 3):\n",
    "                toFlip.add((x, y, z, w))\n",
    "            elif not v and numberOfActiveNeighbours == 3:\n",
    "                toFlip.add((x, y, z, w))\n",
    "\n",
    "        for (x, y, z, w) in toFlip:\n",
    "            self.flip(x, y, z, w)\n",
    "            \n",
    "    def count(self):\n",
    "        return sum(six.itervalues(self.layout))"
   ]
  },
  {
   "cell_type": "code",
   "execution_count": 126,
   "metadata": {},
   "outputs": [
    {
     "name": "stdout",
     "output_type": "stream",
     "text": [
      "1836\n"
     ]
    }
   ],
   "source": [
    "z = Solver(DATA)\n",
    "for _ in range(6):\n",
    "    z.step()\n",
    "print(z.count())"
   ]
  },
  {
   "cell_type": "code",
   "execution_count": null,
   "metadata": {},
   "outputs": [],
   "source": []
  },
  {
   "cell_type": "code",
   "execution_count": null,
   "metadata": {},
   "outputs": [],
   "source": []
  },
  {
   "cell_type": "code",
   "execution_count": null,
   "metadata": {},
   "outputs": [],
   "source": []
  },
  {
   "cell_type": "code",
   "execution_count": null,
   "metadata": {},
   "outputs": [],
   "source": []
  },
  {
   "cell_type": "code",
   "execution_count": null,
   "metadata": {},
   "outputs": [],
   "source": []
  },
  {
   "cell_type": "code",
   "execution_count": null,
   "metadata": {},
   "outputs": [],
   "source": []
  },
  {
   "cell_type": "code",
   "execution_count": null,
   "metadata": {},
   "outputs": [],
   "source": []
  },
  {
   "cell_type": "code",
   "execution_count": null,
   "metadata": {},
   "outputs": [],
   "source": []
  },
  {
   "cell_type": "code",
   "execution_count": null,
   "metadata": {},
   "outputs": [],
   "source": []
  },
  {
   "cell_type": "code",
   "execution_count": null,
   "metadata": {},
   "outputs": [],
   "source": []
  },
  {
   "cell_type": "code",
   "execution_count": null,
   "metadata": {},
   "outputs": [],
   "source": []
  },
  {
   "cell_type": "code",
   "execution_count": null,
   "metadata": {},
   "outputs": [],
   "source": []
  },
  {
   "cell_type": "code",
   "execution_count": null,
   "metadata": {},
   "outputs": [],
   "source": []
  },
  {
   "cell_type": "code",
   "execution_count": null,
   "metadata": {},
   "outputs": [],
   "source": []
  },
  {
   "cell_type": "code",
   "execution_count": null,
   "metadata": {},
   "outputs": [],
   "source": []
  },
  {
   "cell_type": "code",
   "execution_count": null,
   "metadata": {},
   "outputs": [],
   "source": []
  }
 ],
 "metadata": {
  "kernelspec": {
   "display_name": "Python 3",
   "language": "python",
   "name": "python3"
  },
  "language_info": {
   "codemirror_mode": {
    "name": "ipython",
    "version": 3
   },
   "file_extension": ".py",
   "mimetype": "text/x-python",
   "name": "python",
   "nbconvert_exporter": "python",
   "pygments_lexer": "ipython3",
   "version": "3.8.2"
  }
 },
 "nbformat": 4,
 "nbformat_minor": 4
}
