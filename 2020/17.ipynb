{
 "cells": [
  {
   "cell_type": "code",
   "execution_count": 172,
   "metadata": {},
   "outputs": [],
   "source": [
    "import six\n",
    "from itertools import product"
   ]
  },
  {
   "cell_type": "code",
   "execution_count": 173,
   "metadata": {},
   "outputs": [],
   "source": [
    "DATA = \"\"\"\n",
    ".#.\n",
    "..#\n",
    "###\n",
    "\"\"\".strip()"
   ]
  },
  {
   "cell_type": "code",
   "execution_count": 189,
   "metadata": {},
   "outputs": [],
   "source": [
    "class HyperSpace:\n",
    "    \n",
    "    \"\"\"\n",
    "    Utility to solve AoC's 17th puzzle of 2020; it stores\n",
    "    a representation of a D-dimensional space populated by\n",
    "    active and inactive cubes, which at any time step update\n",
    "    their state based on a set of given rules.\n",
    "    \"\"\"\n",
    "    \n",
    "    def __init__(self, layer, numberOfDimensions=3):\n",
    "        \n",
    "        \"\"\"\n",
    "        Initialises the hyperspace with a single\n",
    "        2-dimensional slice.\n",
    "        \n",
    "        :param layer: list(list(str,))\n",
    "        :param numberOfDimensions: int\n",
    "        \"\"\"\n",
    "        \n",
    "        self.numberOfDimensions = numberOfDimensions  \n",
    "        \n",
    "        # The 'active' set contains the coordinates of all active\n",
    "        # hypercubes; this is because it is assumed that everything\n",
    "        # is not activate by default aside from the given active\n",
    "        # inputs and those that become active as time progresses;\n",
    "        \n",
    "        self.active = {tuple([x, y] + [0] * (numberOfDimensions - 2)) for y, row in enumerate(layer.splitlines()) for x, value in enumerate(row) if value == '#'}\n",
    "                \n",
    "    def neighbours(self, *coordinates):\n",
    "        \n",
    "        \"\"\"\n",
    "        Yields the coordinates of all the neighbours of the given coordinate.\n",
    "        \n",
    "        :param coordinates: (int,)\n",
    "        :yield: neighbourCoordinates:tuple(int,), isActive:bool\n",
    "        \"\"\"\n",
    "        \n",
    "        # To find the neighbours, the (Cartesian) product of the\n",
    "        # unit displacement in all dimension is considered, but\n",
    "        # excluding the null displacement as it would consider\n",
    "        # the given coordinates as a neeighbour;\n",
    "        \n",
    "        for displacements in product(*[(-1, 0, +1) for _ in range(self.numberOfDimensions)]):\n",
    "            if all(displacement == 0 for displacement in displacements): continue\n",
    "            neighbourCoordinates = tuple([coordinate + displacement for coordinate, displacement in zip(coordinates, displacements)])\n",
    "            yield neighbourCoordinates\n",
    "            \n",
    "    def takeSteps(self, n):\n",
    "        \"\"\"\n",
    "        Performs a timestep in the hyperspace and updates the\n",
    "        state of every cube based on the given rules.\n",
    "        \"\"\"\n",
    "        for _ in range(n): self._step()\n",
    "        return self\n",
    "    \n",
    "    def _step(self):\n",
    "        \n",
    "        # First, all the coordinates (out of the infinitely\n",
    "        # available locations) which might need updating\n",
    "        # are found; these are all the active coordinates\n",
    "        # with the addition (set union) of all their neighbours;\n",
    "        # this is because, as per the given rules, an inactive\n",
    "        # cube (which is the default in the hyperspace) will\n",
    "        # only update if it has exactly three active neighbours,\n",
    "        # hence only direct neighbours of active known cubes are\n",
    "        # considered.\n",
    "        \n",
    "        toInspect = set(self.active).union(neighbourCoordinates for coordinates in self.active for neighbourCoordinates in self.neighbours(*coordinates))\n",
    "            \n",
    "        # For all known locations, determine whether their\n",
    "        # values needs updating and store the result in a\n",
    "        # temporary set (this allows updating 'simultaneously');\n",
    "        \n",
    "        toActivate, toDeactivate = set(), set()\n",
    "        for coordinates in toInspect:\n",
    "            isActive = coordinates in self.active\n",
    "            neighbours = set(self.neighbours(*coordinates))\n",
    "            numberOfActiveNeighbours = sum(isActive for _, isActive in neighbours)\n",
    "            if isActive and numberOfActiveNeighbours not in (2, 3): toDeactivate.add(coordinates)\n",
    "            elif not isActive and numberOfActiveNeighbours == 3: toActivate.add(coordinates)\n",
    "\n",
    "        self.active.update(toActivate)\n",
    "        self.active = self.active.difference(toDeactivate)\n",
    "            \n",
    "    def count(self):\n",
    "        \"\"\"\n",
    "        Retrieves how many active cubes there are in the hyperspace.\n",
    "        \n",
    "        :return: int\n",
    "        \"\"\"\n",
    "        return len(self.active)"
   ]
  },
  {
   "cell_type": "code",
   "execution_count": 190,
   "metadata": {},
   "outputs": [
    {
     "data": {
      "text/plain": [
       "112"
      ]
     },
     "execution_count": 190,
     "metadata": {},
     "output_type": "execute_result"
    }
   ],
   "source": [
    "HyperSpace(DATA, numberOfDimensions=3).takeSteps(6).count()"
   ]
  },
  {
   "cell_type": "code",
   "execution_count": 183,
   "metadata": {},
   "outputs": [
    {
     "data": {
      "text/plain": [
       "848"
      ]
     },
     "execution_count": 183,
     "metadata": {},
     "output_type": "execute_result"
    }
   ],
   "source": [
    "HyperSpace(DATA, numberOfDimensions=4).takeSteps(6).count()"
   ]
  },
  {
   "cell_type": "code",
   "execution_count": 184,
   "metadata": {},
   "outputs": [],
   "source": [
    "a = [0] * 4"
   ]
  },
  {
   "cell_type": "code",
   "execution_count": 186,
   "metadata": {},
   "outputs": [
    {
     "data": {
      "text/plain": [
       "[1, 0, 0, 0]"
      ]
     },
     "execution_count": 186,
     "metadata": {},
     "output_type": "execute_result"
    }
   ],
   "source": [
    "a[0] = 1\n",
    "a"
   ]
  },
  {
   "cell_type": "code",
   "execution_count": null,
   "metadata": {},
   "outputs": [],
   "source": []
  }
 ],
 "metadata": {
  "kernelspec": {
   "display_name": "Python 3",
   "language": "python",
   "name": "python3"
  },
  "language_info": {
   "codemirror_mode": {
    "name": "ipython",
    "version": 3
   },
   "file_extension": ".py",
   "mimetype": "text/x-python",
   "name": "python",
   "nbconvert_exporter": "python",
   "pygments_lexer": "ipython3",
   "version": "3.8.2"
  }
 },
 "nbformat": 4,
 "nbformat_minor": 4
}
