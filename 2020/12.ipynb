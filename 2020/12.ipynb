{
 "cells": [
  {
   "cell_type": "code",
   "execution_count": 35,
   "metadata": {},
   "outputs": [],
   "source": [
    "DATA = \"\"\"\n",
    "F10\n",
    "N3\n",
    "F7\n",
    "R90\n",
    "F11\n",
    "\"\"\".strip()"
   ]
  },
  {
   "cell_type": "code",
   "execution_count": 36,
   "metadata": {},
   "outputs": [],
   "source": [
    "def _move1(sequence):\n",
    "    \n",
    "    \"\"\"\n",
    "    Performs the given sequence of steps to determine the final\n",
    "    location of the ship, according to the first set of rules.\n",
    "    \n",
    "    With this set of rules, the four direction instructions (N, S, W, E)\n",
    "    indicate the direction and magnitude to which the ship is\n",
    "    moving. The two rotation instructions (L, R) indicate the rotation\n",
    "    to apply to the ship. The F instruction indicates the magnitude\n",
    "    that the ship is moving in the currently faced direction.\n",
    "    \"\"\"\n",
    "    \n",
    "    # The initial location and faced direction of the ship;\n",
    "    x, y, facing = 0, 0, 'E'\n",
    "    \n",
    "    # Order od directions for R instructions;\n",
    "    rotations = 'NESW'\n",
    "    directionVectors = {'N': (0, 1), 'S': (0, -1), 'E': (1, 0), 'W': (-1, 0)}\n",
    "    \n",
    "    # Some transformations for the direction instructions;\n",
    "    transformations = {'L90': 'R270', 'L180': 'R180', 'L270': 'R90',}\n",
    "    \n",
    "    for step in sequence:\n",
    "        # For every instruction in the sequence;\n",
    "        \n",
    "        if step in transformations:\n",
    "            # Transform the instruction if a transformation is available;\n",
    "            step = transformations[step]\n",
    "        \n",
    "        # Extract the instruction type and argument;\n",
    "        a, b = step[0], int(step[1:])\n",
    "        \n",
    "        if a == 'F':\n",
    "            # If it's moving forward, then transform the instruction\n",
    "            # into a movement in the faced direction;\n",
    "            a = facing\n",
    "        \n",
    "        if a == 'R':\n",
    "            # If it's a rotation, update the ship's faced direction,\n",
    "            # based on the known order of directions;\n",
    "            i = (b // 90) % 4\n",
    "            i = rotations.index(facing) + i\n",
    "            i = i % 4\n",
    "            facing = rotations[i]\n",
    "        elif a in ['N', 'S', 'E', 'W']:\n",
    "            # If it's a movement in a direction, apply it based on\n",
    "            # the direction vector;\n",
    "            dx, dy = directionVectors[a]\n",
    "            x, y = x + dx * b, y + dy * b\n",
    "            \n",
    "    return (x, y), abs(x)+abs(y)"
   ]
  },
  {
   "cell_type": "code",
   "execution_count": 37,
   "metadata": {},
   "outputs": [],
   "source": [
    "def _move2(sequence):\n",
    "    \n",
    "    \"\"\"\n",
    "    Performs the given sequence of steps to determine the final\n",
    "    location of the ship, according to the second set of rules.\n",
    "    \n",
    "    With this set of rules, the four direction instructions (N, S, W, E)\n",
    "    indicate the direction and magnitude to which the waypoint is\n",
    "    moving. The two rotation instructions (L, R) indicate the rotation\n",
    "    to apply to the waypoint. The F instruction indicates the magnitude\n",
    "    that the ship is moving (towards the waypoint).\n",
    "    \"\"\"\n",
    "    \n",
    "    # The initial locations of the ship and waypoint;\n",
    "    x1, y1 = 0, 0\n",
    "    x2, y2 = 10, 1\n",
    "    \n",
    "    # Some transformations for the direction instructions;\n",
    "    transformations = {'L90': 'R270', 'L180': 'R180', 'L270': 'R90',}\n",
    "    \n",
    "    for step in sequence:\n",
    "        # For every instruction in the sequence;\n",
    "        \n",
    "        if step in transformations:\n",
    "            # Transform the instruction if a transformation is available;\n",
    "            step = transformations[step]\n",
    "        \n",
    "        # Extract the instruction type and argument;\n",
    "        a, b = step[0], int(step[1:])\n",
    "        \n",
    "        if a == 'R':\n",
    "            # If it's a rotation, update the waypoint location\n",
    "            # based on its current distance from the ship;\n",
    "            i = (b // 90) % 4\n",
    "            dx, dy = x2 - x1, y2 - y1\n",
    "            if i == 1:\n",
    "                x2, y2 = x1 + dy, y1 - dx\n",
    "            elif i == 2:\n",
    "                x2, y2 = x1 - dx, y1 - dy\n",
    "            elif i == 3:\n",
    "                x2, y2 = x1 - dy, y1 + dx\n",
    "        elif a == 'F':\n",
    "            # Otherwise, if it's a ship's movement, move both the\n",
    "            # ship and the waypoint by the given magnitude;\n",
    "            dx, dy = (x2 - x1) * b, (y2 - y1) * b\n",
    "            x1, y1 = x1 + dx, y1 + dy\n",
    "            x2, y2 = x2 + dx, y2 + dy\n",
    "        elif a == 'E':\n",
    "            # Otherwise, if it's a waypoint movement to east;\n",
    "            x2 = x2 + b\n",
    "        elif a == 'W':\n",
    "            # Otherwise, if it's a waypoint movement to west;\n",
    "            x2 = x2 - b\n",
    "        elif a == 'N':\n",
    "            # Otherwise, if it's a waypoint movement to north;\n",
    "            y2 = y2 + b\n",
    "        elif a == 'S':\n",
    "            # Otherwise, if it's a waypoint movement to south;\n",
    "            y2 = y2 - b\n",
    "            \n",
    "    return (x1, y1), abs(x1)+abs(y1)"
   ]
  },
  {
   "cell_type": "code",
   "execution_count": 38,
   "metadata": {},
   "outputs": [],
   "source": [
    "def move(mode, sequence):\n",
    "    if mode == 1: return _move1(sequence)\n",
    "    elif mode == 2: return _move2(sequence)\n",
    "    else: raise NotImplementedError('Only mode 1 and 2 are available.')"
   ]
  },
  {
   "cell_type": "code",
   "execution_count": 39,
   "metadata": {},
   "outputs": [],
   "source": [
    "sequence = DATA.splitlines()"
   ]
  },
  {
   "cell_type": "code",
   "execution_count": 40,
   "metadata": {},
   "outputs": [
    {
     "data": {
      "text/plain": [
       "(25, 286)"
      ]
     },
     "execution_count": 40,
     "metadata": {},
     "output_type": "execute_result"
    }
   ],
   "source": [
    "_, firstSolution = move(1, sequence)\n",
    "_, secondSolution = move(2, sequence)\n",
    "firstSolution, secondSolution"
   ]
  }
 ],
 "metadata": {
  "kernelspec": {
   "display_name": "Python 3",
   "language": "python",
   "name": "python3"
  },
  "language_info": {
   "codemirror_mode": {
    "name": "ipython",
    "version": 3
   },
   "file_extension": ".py",
   "mimetype": "text/x-python",
   "name": "python",
   "nbconvert_exporter": "python",
   "pygments_lexer": "ipython3",
   "version": "3.8.2"
  }
 },
 "nbformat": 4,
 "nbformat_minor": 4
}
