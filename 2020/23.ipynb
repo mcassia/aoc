{
 "cells": [
  {
   "cell_type": "code",
   "execution_count": 5,
   "metadata": {},
   "outputs": [],
   "source": [
    "import numpy as np"
   ]
  },
  {
   "cell_type": "code",
   "execution_count": 68,
   "metadata": {},
   "outputs": [],
   "source": [
    "def play(sequence, steps=10):\n",
    "    \n",
    "    sequence = [int(c) for c in str(sequence)]\n",
    "    \n",
    "    def shift(sequence):\n",
    "        sequence = sequence[1:] + [sequence[0]]\n",
    "        return sequence\n",
    "    \n",
    "    while steps:\n",
    "        \n",
    "        v = sequence[0]\n",
    "        s = sequence[1:4]\n",
    "        \n",
    "        sequence = [sequence[0]] + sequence[4:]\n",
    "        \n",
    "        d = v-1\n",
    "        while (d not in sequence+s) or (d in s):\n",
    "            d = d - 1\n",
    "            if d < min(sequence+s):\n",
    "                d = max(sequence+s)\n",
    "                \n",
    "        d = sequence.index(d) + 1\n",
    "        sequence = sequence[:d] + s + sequence[d:]\n",
    "        \n",
    "        sequence = shift(sequence)\n",
    "        \n",
    "        steps = steps - 1\n",
    "        \n",
    "    while sequence[0] != 1:\n",
    "        sequence = shift(sequence)\n",
    "        \n",
    "    sequence = ''.join(map(str, sequence[1:]))\n",
    "    return sequence\n",
    "    \n",
    "    "
   ]
  },
  {
   "cell_type": "code",
   "execution_count": 71,
   "metadata": {},
   "outputs": [
    {
     "data": {
      "text/plain": [
       "'45286397'"
      ]
     },
     "execution_count": 71,
     "metadata": {},
     "output_type": "execute_result"
    }
   ],
   "source": [
    "play(389547612, 100)"
   ]
  },
  {
   "cell_type": "code",
   "execution_count": null,
   "metadata": {},
   "outputs": [],
   "source": []
  }
 ],
 "metadata": {
  "kernelspec": {
   "display_name": "Python 3",
   "language": "python",
   "name": "python3"
  },
  "language_info": {
   "codemirror_mode": {
    "name": "ipython",
    "version": 3
   },
   "file_extension": ".py",
   "mimetype": "text/x-python",
   "name": "python",
   "nbconvert_exporter": "python",
   "pygments_lexer": "ipython3",
   "version": "3.8.2"
  }
 },
 "nbformat": 4,
 "nbformat_minor": 4
}
