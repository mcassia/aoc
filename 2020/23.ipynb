{
 "cells": [
  {
   "cell_type": "code",
   "execution_count": 65,
   "metadata": {},
   "outputs": [],
   "source": [
    "import numpy as np"
   ]
  },
  {
   "cell_type": "code",
   "execution_count": 66,
   "metadata": {},
   "outputs": [],
   "source": [
    "class Node:\n",
    "    \n",
    "    \"\"\"A node which has at most one next value; useful for loops.\"\"\"\n",
    "    \n",
    "    def __init__(self, value, nxt=None):\n",
    "        \n",
    "        \"\"\"\n",
    "        Initiates the node given its numeric value and the\n",
    "        next node it points to, if any.\n",
    "        \n",
    "        :param value: int\n",
    "        :param nxt: Node\n",
    "        \"\"\"\n",
    "        \n",
    "        self.value = value\n",
    "        self.nxt = nxt"
   ]
  },
  {
   "cell_type": "code",
   "execution_count": 72,
   "metadata": {},
   "outputs": [],
   "source": [
    "class Circle:\n",
    "    \n",
    "    \"\"\"Utility to solve AoC's 2020 23rd task.\"\"\"\n",
    "    \n",
    "    def __init__(self, startNode):\n",
    "        \n",
    "        \"\"\"\n",
    "        Initates a circular structure given the starting node;\n",
    "        it assumes the node recursively points to other nodes\n",
    "        which eventually brings back to itself.\n",
    "        \n",
    "        :param startNode: Node\n",
    "        \"\"\"\n",
    "        \n",
    "        # Store the initial node in the circle;\n",
    "        self.current = startNode\n",
    "        \n",
    "        # Create a lookup of nodes by their numeric value, as\n",
    "        # part of the game requires going from a value to a \n",
    "        # node (i.e. node with value == curret.value - 1);\n",
    "        self.nodes = {}\n",
    "        node = self.current\n",
    "        while node.value not in self.nodes:\n",
    "            self.nodes[node.value] = node\n",
    "            node = node.nxt\n",
    "            \n",
    "        # Also store the minimum and maximum values in the\n",
    "        # circle as they would otherwise be repeadetly queried;\n",
    "        self.min, self.max = min(set(self.nodes)), max(set(self.nodes))\n",
    "            \n",
    "    def __str__(self):\n",
    "        s = \"\"\n",
    "        node = self.current\n",
    "        for _ in range(len(self.nodes)):\n",
    "            s += str(node.value)\n",
    "            node = node.nxt\n",
    "        return s\n",
    "    \n",
    "    def play(self, steps):\n",
    "        \"\"\"\n",
    "        Plays the game for as many steps as are given;\n",
    "        then sets the node with value 1 as current.\n",
    "        \n",
    "        :param steps: int\n",
    "        \"\"\"\n",
    "        for _ in range(steps): self.step()\n",
    "        self.current = self.nodes[1]\n",
    "            \n",
    "    def step(self):\n",
    "        \n",
    "        \"\"\"Performs a step in the game.\"\"\"\n",
    "        \n",
    "        # Record the current node;\n",
    "        c = self.current\n",
    "        \n",
    "        # Record the three nodes following it;\n",
    "        a1, a2, a3 = c.nxt, c.nxt.nxt, c.nxt.nxt.nxt\n",
    "        \n",
    "        # Cut out the three nodes by making the node before\n",
    "        # them (the current node) point to the node after them\n",
    "        # (the 'next' of the last node in the triplet);\n",
    "        c.nxt, a3.nxt = a3.nxt, None\n",
    "        \n",
    "        # Find the destination node by iterating over all\n",
    "        # potential values of the destination node and checking\n",
    "        # their validity;\n",
    "        dv = c.value - 1\n",
    "        while (dv not in self.nodes) or (dv in (a1.value, a2.value, a3.value)):\n",
    "            dv = dv - 1\n",
    "            if dv < self.min:\n",
    "                dv = self.max\n",
    "                \n",
    "        # Once found the destination node, insert the triplet by\n",
    "        # making the destination node point to the first node in\n",
    "        # the triplet and making the last node in the triplet\n",
    "        # point to what the destination node was originally\n",
    "        # pointing to;\n",
    "        d = self.nodes[dv]\n",
    "        a3.nxt = d.nxt\n",
    "        d.nxt = a1\n",
    "        \n",
    "        # Eventually, move by one node (equivalent to rotating\n",
    "        # clockwise);\n",
    "        self.current = self.current.nxt\n",
    "\n",
    "    @staticmethod\n",
    "    def make(sequence, pad=None):\n",
    "        \n",
    "        \"\"\"\n",
    "        Generates a circle given the values of the nodes.\n",
    "        \n",
    "        :param sequence: int|list(int,)\n",
    "        :param pad: int\n",
    "        :return: Circle\n",
    "        \"\"\"\n",
    "        \n",
    "        if isinstance(sequence, int):\n",
    "            sequence = [int(c) for c in str(sequence)]\n",
    "            \n",
    "        if pad:\n",
    "            sequence.append(max(sequence)+1)\n",
    "            while sequence[-1] != pad:\n",
    "                sequence.append(sequence[-1] + 1)\n",
    "            \n",
    "        nodes = []\n",
    "        for value in sequence:\n",
    "            node = Node(value)\n",
    "            if nodes:\n",
    "                nodes[-1].setNext(node)\n",
    "            nodes.append(node)\n",
    "        nodes[-1].setNext(nodes[0])\n",
    "        \n",
    "        return Circle(nodes[0])"
   ]
  },
  {
   "cell_type": "code",
   "execution_count": 73,
   "metadata": {},
   "outputs": [
    {
     "data": {
      "text/plain": [
       "'45286397'"
      ]
     },
     "execution_count": 73,
     "metadata": {},
     "output_type": "execute_result"
    }
   ],
   "source": [
    "c = Circle.make(389547612)\n",
    "c.play(100)\n",
    "str(c)[1:]"
   ]
  },
  {
   "cell_type": "code",
   "execution_count": 74,
   "metadata": {},
   "outputs": [],
   "source": [
    "c = Circle.make(389547612, pad=1000000)"
   ]
  },
  {
   "cell_type": "code",
   "execution_count": 75,
   "metadata": {},
   "outputs": [],
   "source": [
    "c.play(10000000)"
   ]
  },
  {
   "cell_type": "code",
   "execution_count": 76,
   "metadata": {},
   "outputs": [
    {
     "data": {
      "text/plain": [
       "836763710"
      ]
     },
     "execution_count": 76,
     "metadata": {},
     "output_type": "execute_result"
    }
   ],
   "source": [
    "c.nodes[1].nxt.value * c.nodes[1].nxt.nxt.value"
   ]
  }
 ],
 "metadata": {
  "kernelspec": {
   "display_name": "Python 3",
   "language": "python",
   "name": "python3"
  },
  "language_info": {
   "codemirror_mode": {
    "name": "ipython",
    "version": 3
   },
   "file_extension": ".py",
   "mimetype": "text/x-python",
   "name": "python",
   "nbconvert_exporter": "python",
   "pygments_lexer": "ipython3",
   "version": "3.8.2"
  }
 },
 "nbformat": 4,
 "nbformat_minor": 4
}
