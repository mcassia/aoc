{
 "cells": [
  {
   "cell_type": "code",
   "execution_count": 1,
   "metadata": {},
   "outputs": [],
   "source": [
    "import numpy as np\n",
    "import six\n",
    "import re\n",
    "from copy import deepcopy"
   ]
  },
  {
   "cell_type": "code",
   "execution_count": 46,
   "metadata": {},
   "outputs": [],
   "source": [
    "DATA = \"\"\"\n",
    "Player 1:\n",
    "18\n",
    "19\n",
    "16\n",
    "11\n",
    "47\n",
    "38\n",
    "6\n",
    "27\n",
    "9\n",
    "22\n",
    "15\n",
    "42\n",
    "3\n",
    "4\n",
    "21\n",
    "41\n",
    "14\n",
    "8\n",
    "23\n",
    "30\n",
    "40\n",
    "13\n",
    "35\n",
    "46\n",
    "50\n",
    "\n",
    "Player 2:\n",
    "39\n",
    "1\n",
    "29\n",
    "20\n",
    "45\n",
    "43\n",
    "12\n",
    "2\n",
    "37\n",
    "33\n",
    "49\n",
    "32\n",
    "10\n",
    "26\n",
    "36\n",
    "17\n",
    "34\n",
    "44\n",
    "25\n",
    "28\n",
    "24\n",
    "5\n",
    "48\n",
    "31\n",
    "7\n",
    "\"\"\".strip()"
   ]
  },
  {
   "cell_type": "code",
   "execution_count": 21,
   "metadata": {},
   "outputs": [],
   "source": [
    "DATA = \"\"\"\n",
    "Player 1:\n",
    "9\n",
    "2\n",
    "6\n",
    "3\n",
    "1\n",
    "\n",
    "Player 2:\n",
    "5\n",
    "8\n",
    "4\n",
    "7\n",
    "10\n",
    "\"\"\".strip()"
   ]
  },
  {
   "cell_type": "code",
   "execution_count": 57,
   "metadata": {},
   "outputs": [],
   "source": [
    "def getDecks(inputData):\n",
    "    \"\"\"\n",
    "    Extracts the decks from the given input.\n",
    "    \n",
    "    :param inputData: str\n",
    "    :return: tuple(int,), tuple(int,)\n",
    "    \"\"\"\n",
    "    cards = {}\n",
    "    for playerData in inputData.split('\\n\\n'):\n",
    "        player = int(playerData.splitlines()[0][:-1].split(' ')[1])\n",
    "        cards[player] = list(map(int, playerData.splitlines()[1:]))\n",
    "    return tuple(cards[1]), tuple(cards[2])"
   ]
  },
  {
   "cell_type": "code",
   "execution_count": 72,
   "metadata": {},
   "outputs": [],
   "source": [
    "def play(inputData, mode):\n",
    "    \"\"\"\n",
    "    Plays the game of Combat, either in its traditional\n",
    "    form (mode 1) or the recursive one (mode 2).\n",
    "    \n",
    "    :param inputData: str\n",
    "    :param mode: int\n",
    "    \"\"\"\n",
    "    \n",
    "    firstDeck, secondDeck = getDecks(inputData)\n",
    "    fn = {1: _play, 2: _recursivePlay}[mode]\n",
    "    winner, (firstDeck, secondDeck) = fn(firstDeck, secondDeck)\n",
    "    deck = firstDeck if winner == 1 else secondDeck\n",
    "    otuput = sum((i+1)*v for i, v in enumerate(reversed(deck)))\n",
    "    \n",
    "    return otuput"
   ]
  },
  {
   "cell_type": "code",
   "execution_count": 79,
   "metadata": {},
   "outputs": [],
   "source": [
    "def _play(a, b):\n",
    "    \n",
    "    \"\"\"\n",
    "    Plays the standard game of Combat given the two\n",
    "    initial decks.\n",
    "    \n",
    "    :param a: tuple(int,)\n",
    "    :param b: tuple(int,)\n",
    "    :return: int, tuple(tuple(int,), tuple(int,))\n",
    "    \"\"\"\n",
    "    \n",
    "    while a and b:\n",
    "        \n",
    "        # As long as both players have some cards;\n",
    "        \n",
    "        # Extract the first card in the deck and\n",
    "        # update the deck accordingly;\n",
    "\n",
    "        ca, cb = a[0], b[0]\n",
    "        a, b = a[1:], b[1:]\n",
    "        \n",
    "        # Deliver the two cards to the bottom of\n",
    "        # the deck of the player which had the\n",
    "        # highest card;\n",
    "\n",
    "        if ca > cb: a = tuple(list(a) + [ca, cb])\n",
    "        elif cb > ca: b = tuple(list(b) + [cb, ca])\n",
    "            \n",
    "    # One player won: return the player's numeric\n",
    "    # ID followed by the two decks (one full and\n",
    "    # one empty);\n",
    "                \n",
    "    return (1 if a else 2), (a, b)"
   ]
  },
  {
   "cell_type": "code",
   "execution_count": 85,
   "metadata": {},
   "outputs": [],
   "source": [
    "def _recursivePlay(a, b):\n",
    "    \n",
    "    \"\"\"\n",
    "    Plays the recursive game of Combat given the two\n",
    "    initial decks.\n",
    "    \n",
    "    :param a: tuple(int,)\n",
    "    :param b: tuple(int,)\n",
    "    :return: int, tuple(tuple(int,), tuple(int,))\n",
    "    \"\"\"\n",
    "    \n",
    "    # This set will act as a quick lookup for\n",
    "    # previously observed states of play in the\n",
    "    # current game;\n",
    "    \n",
    "    history = set()\n",
    "    \n",
    "    while a and b:\n",
    "        \n",
    "        # As long as both players have some cards;\n",
    "        \n",
    "        if (a, b) in history:\n",
    "            # If the current state of play was\n",
    "            # previously visited, then the first\n",
    "            # player wins;\n",
    "            return 1, (a, b)\n",
    "        \n",
    "        # Otherwise, update the lookup;\n",
    "            \n",
    "        history.add((a, b))\n",
    "        \n",
    "        # Extract the first card in the deck and\n",
    "        # update the deck accordingly;\n",
    "\n",
    "        ca, cb = a[0], b[0]\n",
    "        a, b = a[1:], b[1:]\n",
    "        \n",
    "        # Determine the winner: if the condition for\n",
    "        # recursive play is met, start a new game using\n",
    "        # the current decks (without the two drawn cards),\n",
    "        # but only the first cards for both decks, the\n",
    "        # quantity of which is determined by the value\n",
    "        # on each of the drawn cards. If it cannot be\n",
    "        # played recursively, the winner is the player\n",
    "        # who drew the highest card.\n",
    "\n",
    "        if len(a) >= ca and len(b) >= cb:\n",
    "            w, _ = _solve(tuple(a)[:ca], tuple(b)[:cb])\n",
    "        else:\n",
    "            w = 1 if ca > cb else 2\n",
    "\n",
    "        # Deliver the two cards to the bottom of\n",
    "        # the deck of the player which had the\n",
    "        # highest card;\n",
    "            \n",
    "        if w == 1: a = tuple(list(a) + [ca, cb])\n",
    "        elif w == 2: b = tuple(list(b) + [cb, ca])\n",
    "            \n",
    "    # One player won: return the player's numeric\n",
    "    # ID followed by the two decks (one full and\n",
    "    # one empty);\n",
    "                \n",
    "    return (1 if a else 2), (a, b)"
   ]
  },
  {
   "cell_type": "code",
   "execution_count": 86,
   "metadata": {},
   "outputs": [
    {
     "data": {
      "text/plain": [
       "32824"
      ]
     },
     "execution_count": 86,
     "metadata": {},
     "output_type": "execute_result"
    }
   ],
   "source": [
    "play(DATA, 1)"
   ]
  },
  {
   "cell_type": "code",
   "execution_count": 87,
   "metadata": {},
   "outputs": [
    {
     "data": {
      "text/plain": [
       "36515"
      ]
     },
     "execution_count": 87,
     "metadata": {},
     "output_type": "execute_result"
    }
   ],
   "source": [
    "play(DATA, 2)"
   ]
  },
  {
   "cell_type": "code",
   "execution_count": null,
   "metadata": {},
   "outputs": [],
   "source": []
  }
 ],
 "metadata": {
  "kernelspec": {
   "display_name": "Python 3",
   "language": "python",
   "name": "python3"
  },
  "language_info": {
   "codemirror_mode": {
    "name": "ipython",
    "version": 3
   },
   "file_extension": ".py",
   "mimetype": "text/x-python",
   "name": "python",
   "nbconvert_exporter": "python",
   "pygments_lexer": "ipython3",
   "version": "3.8.2"
  }
 },
 "nbformat": 4,
 "nbformat_minor": 4
}
