{
 "cells": [
  {
   "cell_type": "code",
   "execution_count": 1,
   "metadata": {},
   "outputs": [],
   "source": [
    "import numpy as np\n",
    "import six\n",
    "import re"
   ]
  },
  {
   "cell_type": "code",
   "execution_count": 58,
   "metadata": {},
   "outputs": [],
   "source": [
    "DATA = \"\"\"\n",
    "Player 1:\n",
    "18\n",
    "19\n",
    "16\n",
    "11\n",
    "47\n",
    "38\n",
    "6\n",
    "27\n",
    "9\n",
    "22\n",
    "15\n",
    "42\n",
    "3\n",
    "4\n",
    "21\n",
    "41\n",
    "14\n",
    "8\n",
    "23\n",
    "30\n",
    "40\n",
    "13\n",
    "35\n",
    "46\n",
    "50\n",
    "\n",
    "Player 2:\n",
    "39\n",
    "1\n",
    "29\n",
    "20\n",
    "45\n",
    "43\n",
    "12\n",
    "2\n",
    "37\n",
    "33\n",
    "49\n",
    "32\n",
    "10\n",
    "26\n",
    "36\n",
    "17\n",
    "34\n",
    "44\n",
    "25\n",
    "28\n",
    "24\n",
    "5\n",
    "48\n",
    "31\n",
    "7\n",
    "\"\"\".strip()"
   ]
  },
  {
   "cell_type": "code",
   "execution_count": 6,
   "metadata": {},
   "outputs": [],
   "source": [
    "SAMPLE_DATA = \"\"\"\n",
    "Player 1:\n",
    "9\n",
    "2\n",
    "6\n",
    "3\n",
    "1\n",
    "\n",
    "Player 2:\n",
    "5\n",
    "8\n",
    "4\n",
    "7\n",
    "10\n",
    "\"\"\".strip()"
   ]
  },
  {
   "cell_type": "code",
   "execution_count": 59,
   "metadata": {},
   "outputs": [],
   "source": [
    "class Solver:\n",
    "    \n",
    "    def __init__(self, data):\n",
    "        \n",
    "        self.cards = {}\n",
    "        for playerData in data.split('\\n\\n'):\n",
    "            player = int(playerData.splitlines()[0][:-1].split(' ')[1])\n",
    "            cards = list(map(int, playerData.splitlines()[1:]))\n",
    "            self.cards[player] = cards\n",
    "            \n",
    "    def getCardsPerPlayer(self):\n",
    "        return {i: len(cards) for i, cards in six.iteritems(self.cards)}\n",
    "    \n",
    "    def gameIsOver(self):\n",
    "        return (len(self.cards) - 1) == sum(numberOfCards == 0 for numberOfCards in six.itervalues(self.getCardsPerPlayer()))\n",
    "    \n",
    "    def getWinningDeck(self):\n",
    "        for cards in six.itervalues(self.cards):\n",
    "            if cards:\n",
    "                return cards\n",
    "    \n",
    "    def play(self):\n",
    "        \n",
    "        for p, c in six.iteritems(self.cards):\n",
    "            print(p, c)\n",
    "        \n",
    "        i = 0\n",
    "        \n",
    "        while not self.gameIsOver():\n",
    "            \n",
    "            drawn = {}\n",
    "            \n",
    "            for player, cards in six.iteritems(self.cards):\n",
    "                drawn[player] = cards[0]\n",
    "                self.cards[player].remove(cards[0])\n",
    "            \n",
    "            maxx = max(six.itervalues(drawn))\n",
    "            idx = [i for i, v in six.iteritems(drawn) if maxx == v][0]\n",
    "            \n",
    "            self.cards[idx] += sorted(six.itervalues(drawn), key=lambda x: drawn[idx] != x)\n",
    "            \n",
    "            i += 1\n",
    "                \n",
    "        cards = self.getWinningDeck()\n",
    "        score = 0\n",
    "        for i, card in enumerate(reversed(cards)):\n",
    "            score += (i + 1) * card\n",
    "            \n",
    "        return i, score\n",
    "                "
   ]
  },
  {
   "cell_type": "code",
   "execution_count": 60,
   "metadata": {},
   "outputs": [],
   "source": [
    "s = Solver(DATA)"
   ]
  },
  {
   "cell_type": "code",
   "execution_count": 61,
   "metadata": {},
   "outputs": [
    {
     "name": "stdout",
     "output_type": "stream",
     "text": [
      "1 [18, 19, 16, 11, 47, 38, 6, 27, 9, 22, 15, 42, 3, 4, 21, 41, 14, 8, 23, 30, 40, 13, 35, 46, 50]\n",
      "2 [39, 1, 29, 20, 45, 43, 12, 2, 37, 33, 49, 32, 10, 26, 36, 17, 34, 44, 25, 28, 24, 5, 48, 31, 7]\n"
     ]
    },
    {
     "data": {
      "text/plain": [
       "(49, 32824)"
      ]
     },
     "execution_count": 61,
     "metadata": {},
     "output_type": "execute_result"
    }
   ],
   "source": [
    "s.play()"
   ]
  },
  {
   "cell_type": "code",
   "execution_count": null,
   "metadata": {},
   "outputs": [],
   "source": []
  }
 ],
 "metadata": {
  "kernelspec": {
   "display_name": "Python 3",
   "language": "python",
   "name": "python3"
  },
  "language_info": {
   "codemirror_mode": {
    "name": "ipython",
    "version": 3
   },
   "file_extension": ".py",
   "mimetype": "text/x-python",
   "name": "python",
   "nbconvert_exporter": "python",
   "pygments_lexer": "ipython3",
   "version": "3.8.2"
  }
 },
 "nbformat": 4,
 "nbformat_minor": 4
}
