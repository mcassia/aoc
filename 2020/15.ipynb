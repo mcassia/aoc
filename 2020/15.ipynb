{
 "cells": [
  {
   "cell_type": "code",
   "execution_count": 113,
   "metadata": {},
   "outputs": [],
   "source": [
    "import numpy as np\n",
    "import six"
   ]
  },
  {
   "cell_type": "code",
   "execution_count": 114,
   "metadata": {},
   "outputs": [],
   "source": [
    "DATA = \"\"\"\n",
    "18,11,9,0,5,1\n",
    "\"\"\".strip()"
   ]
  },
  {
   "cell_type": "code",
   "execution_count": 115,
   "metadata": {},
   "outputs": [
    {
     "data": {
      "text/plain": [
       "[18, 11, 9, 0, 5, 1]"
      ]
     },
     "execution_count": 115,
     "metadata": {},
     "output_type": "execute_result"
    }
   ],
   "source": [
    "sequence = list(map(int, DATA.split(',')))\n",
    "sequence"
   ]
  },
  {
   "cell_type": "code",
   "execution_count": 119,
   "metadata": {},
   "outputs": [],
   "source": [
    "def play(sequence, t):\n",
    "    \n",
    "    \"\"\"\n",
    "    Given the initial sequence of integers, it proceeds to\n",
    "    expand it based on the game's rules for as many steps\n",
    "    as required and returns the full sequence and the last item.\n",
    "    \n",
    "    At every step, if the last number in the sequence appears\n",
    "    for the first time in the sequence, add 0, otherwise adds\n",
    "    the distance from the previous occurrence of the number.\n",
    "    \n",
    "    :param sequence: list(int,)\n",
    "    :param t: int\n",
    "    :return: list(int,), int\n",
    "    \"\"\"\n",
    "    \n",
    "    # Generate a copy of the input sequence to prevent\n",
    "    # the original list;\n",
    "    sequence = list(sequence)\n",
    "    \n",
    "    # Create a map between numbers and the list of positions\n",
    "    # in the sequence at which they appear for prompt lookup;\n",
    "    ref = {n: [i] for i, n in enumerate(sequence)}\n",
    "    \n",
    "    # The next index of iteration;\n",
    "    i = len(sequence)\n",
    "    \n",
    "    # As long as the sequence is not as long as required;\n",
    "    while len(sequence) < t:    \n",
    "        \n",
    "        # Extract the last value added to the sequence;\n",
    "        v = sequence[-1]\n",
    "        \n",
    "        if len(ref[v]) < 2:\n",
    "            # If it appears only once, the next value is 0;\n",
    "            nv = 0\n",
    "        else:\n",
    "            # Otherwise, the next value is the distance between\n",
    "            # the last occurrence and the preceding one;\n",
    "            nv = ref[v][-1]-ref[v][-2]\n",
    "            \n",
    "        if nv not in ref:\n",
    "            # If the next value was never encountered before, add\n",
    "            # an empty list to the lookup for that value;\n",
    "            ref[nv] = []\n",
    "    \n",
    "        # Add the entry in the lookup and the value to the sequence;\n",
    "        ref[nv].append(i)\n",
    "        sequence.append(nv)\n",
    "        \n",
    "        # Increment the iteration index;\n",
    "        i += 1\n",
    "        \n",
    "    return sequence, sequence[-1]"
   ]
  },
  {
   "cell_type": "code",
   "execution_count": 124,
   "metadata": {},
   "outputs": [
    {
     "data": {
      "text/plain": [
       "(959, 116590)"
      ]
     },
     "execution_count": 124,
     "metadata": {},
     "output_type": "execute_result"
    }
   ],
   "source": [
    "_, firstSolution = play(sequence, 2020)\n",
    "_, secondSolution = play(sequence, 30000000)\n",
    "firstSolution, secondSolution"
   ]
  },
  {
   "cell_type": "code",
   "execution_count": null,
   "metadata": {},
   "outputs": [],
   "source": []
  },
  {
   "cell_type": "code",
   "execution_count": null,
   "metadata": {},
   "outputs": [],
   "source": []
  },
  {
   "cell_type": "code",
   "execution_count": null,
   "metadata": {},
   "outputs": [],
   "source": []
  },
  {
   "cell_type": "code",
   "execution_count": null,
   "metadata": {},
   "outputs": [],
   "source": []
  },
  {
   "cell_type": "code",
   "execution_count": null,
   "metadata": {},
   "outputs": [],
   "source": []
  },
  {
   "cell_type": "code",
   "execution_count": null,
   "metadata": {},
   "outputs": [],
   "source": []
  },
  {
   "cell_type": "code",
   "execution_count": null,
   "metadata": {},
   "outputs": [],
   "source": []
  },
  {
   "cell_type": "code",
   "execution_count": null,
   "metadata": {},
   "outputs": [],
   "source": []
  }
 ],
 "metadata": {
  "kernelspec": {
   "display_name": "Python 3",
   "language": "python",
   "name": "python3"
  },
  "language_info": {
   "codemirror_mode": {
    "name": "ipython",
    "version": 3
   },
   "file_extension": ".py",
   "mimetype": "text/x-python",
   "name": "python",
   "nbconvert_exporter": "python",
   "pygments_lexer": "ipython3",
   "version": "3.8.2"
  }
 },
 "nbformat": 4,
 "nbformat_minor": 4
}
