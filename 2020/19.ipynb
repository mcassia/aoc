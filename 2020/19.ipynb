{
 "cells": [
  {
   "cell_type": "code",
   "execution_count": 356,
   "metadata": {},
   "outputs": [],
   "source": [
    "DATA = \"\"\"\n",
    "42: 9 14 | 10 1\n",
    "9: 14 27 | 1 26\n",
    "10: 23 14 | 28 1\n",
    "1: \"a\"\n",
    "11: 42 31\n",
    "5: 1 14 | 15 1\n",
    "19: 14 1 | 14 14\n",
    "12: 24 14 | 19 1\n",
    "16: 15 1 | 14 14\n",
    "31: 14 17 | 1 13\n",
    "6: 14 14 | 1 14\n",
    "2: 1 24 | 14 4\n",
    "0: 8 11\n",
    "13: 14 3 | 1 12\n",
    "15: 1 | 14\n",
    "17: 14 2 | 1 7\n",
    "23: 25 1 | 22 14\n",
    "28: 16 1\n",
    "4: 1 1\n",
    "20: 14 14 | 1 15\n",
    "3: 5 14 | 16 1\n",
    "27: 1 6 | 14 18\n",
    "14: \"b\"\n",
    "21: 14 1 | 1 14\n",
    "25: 1 1 | 1 14\n",
    "22: 14 14\n",
    "8: 42\n",
    "26: 14 22 | 1 20\n",
    "18: 15 15\n",
    "7: 14 5 | 1 21\n",
    "24: 14 1\n",
    "\n",
    "abbbbbabbbaaaababbaabbbbabababbbabbbbbbabaaaa\n",
    "bbabbbbaabaabba\n",
    "babbbbaabbbbbabbbbbbaabaaabaaa\n",
    "aaabbbbbbaaaabaababaabababbabaaabbababababaaa\n",
    "bbbbbbbaaaabbbbaaabbabaaa\n",
    "bbbababbbbaaaaaaaabbababaaababaabab\n",
    "ababaaaaaabaaab\n",
    "ababaaaaabbbaba\n",
    "baabbaaaabbaaaababbaababb\n",
    "abbbbabbbbaaaababbbbbbaaaababb\n",
    "aaaaabbaabaaaaababaa\n",
    "aaaabbaaaabbaaa\n",
    "aaaabbaabbaaaaaaabbbabbbaaabbaabaaa\n",
    "babaaabbbaaabaababbaabababaaab\n",
    "aabbbbbaabbbaaaaaabbbbbababaaaaabbaaabba\n",
    "\"\"\".strip()"
   ]
  },
  {
   "cell_type": "code",
   "execution_count": 324,
   "metadata": {},
   "outputs": [],
   "source": [
    "import re, six"
   ]
  },
  {
   "cell_type": "code",
   "execution_count": 372,
   "metadata": {},
   "outputs": [],
   "source": [
    "class Solver:\n",
    "    \n",
    "    \"\"\"\n",
    "    Utility to solve AoC's 2020 19th task.\n",
    "    \"\"\"\n",
    "    \n",
    "    def __init__(self, data, applyTransforms=False):\n",
    "        \n",
    "        \"\"\"\n",
    "        Receives the task's input textual data and whether or not\n",
    "        to apply the transformations detailed in the second part.\n",
    "        \n",
    "        :param data: str\n",
    "        :param applyTransforms: bool\n",
    "        \"\"\"\n",
    "        \n",
    "        self.rules = {}\n",
    "        self.messages = set()\n",
    "        \n",
    "        # The two known transformations are \"telescoped\" from\n",
    "        # recursive form into a regex compliant form; however,\n",
    "        # while the 8th can conveniently be stated as per the\n",
    "        # below, I am not familiar with any that allows closed\n",
    "        # form for the 11th. This would be '42 repeated N times\n",
    "        # and 31 repeated N times'. While manually specifying\n",
    "        # the first few realisations of this seems to work, a\n",
    "        # more generic solution for converting the given recursive\n",
    "        # form into closed regex work would be ideal.\n",
    "        \n",
    "        transforms = {\n",
    "            8:  '(42)+',\n",
    "            11: '42 31 | 42 42 31 31 | 42 42 42 31 31 31 | 42 42 42 42 31 31 31 31 | 42 42 42 42 42 31 31 31 31 31 | 42 42 42 42 42 42 31 31 31 31 31 31 | 42 42 42 42 42 42 42 31 31 31 31 31 31 31 | 42 42 42 42 42 42 42 31 31 31 31 31 31 31'\n",
    "        } if applyTransforms else {}\n",
    "        \n",
    "        # Rules are stored by creating textual placeholders for\n",
    "        # the rules they reference.\n",
    "        \n",
    "        for line in data.splitlines():\n",
    "            if ': ' in line:\n",
    "                i, content = line.split(': ')\n",
    "                i, content = int(i), transforms.get(int(i), content).replace('\"', '')\n",
    "                self.rules[i] = content if content.isalpha() else re.sub(r'([0-9]+)', r'{r\\1}', content).replace(' ', '')\n",
    "            elif line.strip():\n",
    "                self.messages.add(line.strip())\n",
    "                \n",
    "        self.patterns, self.pattern = self.makePatterns()\n",
    "                \n",
    "    def makePatterns(self):\n",
    "        \n",
    "        \"\"\"\n",
    "        Using the task's input, it constructs the regular expressions\n",
    "        to eventually find the 0th expression which is used to validate\n",
    "        the input messages.\n",
    "        \n",
    "        :return: dict(int, re.Pattern), re.Pattern\n",
    "        \"\"\"\n",
    "        \n",
    "        p = re.compile('{r([0-9]+)}')\n",
    "        patterns = {i: v for i, v in six.iteritems(self.rules) if v.isalpha()}\n",
    "        \n",
    "        # The rules are known to be built as a dependency graph,\n",
    "        # with the exception of some self-cycles in the second\n",
    "        # task. Aside from those, it means that repeated iterations\n",
    "        # can be formed by filling in the numeric placeholders\n",
    "        # of the pattern with their actual regex patterns as\n",
    "        # they become available with successive iterations.\n",
    "        \n",
    "        # For instance, two patterns are already given (i.e. 'a' and\n",
    "        # 'b'): at the first iteration, all the pattern which use\n",
    "        # at most 'a' and 'b' are formed, then all the ones which\n",
    "        # use 'a', 'b' and any of the patterns formed at the \n",
    "        # previous iteration and so on.\n",
    "        \n",
    "        while len(patterns) != len(self.rules):\n",
    "            for i in sorted(set(self.rules).difference(set(patterns))):\n",
    "                pattern = self.rules[i]\n",
    "                dependencies = set(map(int, p.findall(pattern))).difference({i,})\n",
    "                if any(d not in patterns for d in dependencies): continue\n",
    "                for d in dependencies:\n",
    "                    replacement = '(' + patterns[d] + ')'\n",
    "                    replacement = replacement.replace('(', '').replace(')', '') if '|' not in replacement else replacement\n",
    "                    pattern = pattern.replace('{r' + str(d) + '}', replacement)\n",
    "                patterns[i] = pattern\n",
    "            \n",
    "        patterns = {i: re.compile('^{}$'.format(v)) for i, v in six.iteritems(patterns)}\n",
    "        return patterns, patterns[0]\n",
    "    \n",
    "    def count(self):\n",
    "        return sum(bool(self.pattern.match(message)) for message in self.messages)"
   ]
  },
  {
   "cell_type": "code",
   "execution_count": 373,
   "metadata": {},
   "outputs": [
    {
     "data": {
      "text/plain": [
       "3"
      ]
     },
     "execution_count": 373,
     "metadata": {},
     "output_type": "execute_result"
    }
   ],
   "source": [
    "Solver(DATA, applyTransforms=False).count()"
   ]
  },
  {
   "cell_type": "code",
   "execution_count": 374,
   "metadata": {},
   "outputs": [
    {
     "data": {
      "text/plain": [
       "12"
      ]
     },
     "execution_count": 374,
     "metadata": {},
     "output_type": "execute_result"
    }
   ],
   "source": [
    "Solver(DATA, applyTransforms=True).count()"
   ]
  },
  {
   "cell_type": "code",
   "execution_count": null,
   "metadata": {},
   "outputs": [],
   "source": []
  }
 ],
 "metadata": {
  "kernelspec": {
   "display_name": "Python 3",
   "language": "python",
   "name": "python3"
  },
  "language_info": {
   "codemirror_mode": {
    "name": "ipython",
    "version": 3
   },
   "file_extension": ".py",
   "mimetype": "text/x-python",
   "name": "python",
   "nbconvert_exporter": "python",
   "pygments_lexer": "ipython3",
   "version": "3.8.2"
  }
 },
 "nbformat": 4,
 "nbformat_minor": 4
}
