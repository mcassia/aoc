{
 "cells": [
  {
   "cell_type": "code",
   "execution_count": 1,
   "metadata": {},
   "outputs": [],
   "source": [
    "DATA = \"\"\"\n",
    "0: 4 1 5\n",
    "1: 2 3 | 3 2\n",
    "2: 4 4 | 5 5\n",
    "3: 4 5 | 5 4\n",
    "4: \"a\"\n",
    "5: \"b\"\n",
    "\n",
    "ababbb\n",
    "bababa\n",
    "abbbab\n",
    "aaabbb\n",
    "aaaabbb\n",
    "\"\"\".strip()"
   ]
  },
  {
   "cell_type": "code",
   "execution_count": 61,
   "metadata": {},
   "outputs": [],
   "source": [
    "import six\n",
    "from itertools import product"
   ]
  },
  {
   "cell_type": "code",
   "execution_count": 98,
   "metadata": {},
   "outputs": [],
   "source": [
    "class Solver:\n",
    "    \n",
    "    def __init__(self, data):\n",
    "        \n",
    "        self.rules = {}\n",
    "        self.messages = set()\n",
    "        \n",
    "        for line in data.splitlines():\n",
    "            line = line.strip()\n",
    "            if not line: continue\n",
    "            if ':' in line:\n",
    "                i = int(line.split(':')[0])\n",
    "                content = line.split(':')[1].strip().replace('\"', \"\")\n",
    "                if content.isalpha():\n",
    "                    self.rules[i] = [content,]\n",
    "                else:\n",
    "                    self.rules[i] = list()\n",
    "                    for rule in content.split(' | '):\n",
    "                        self.rules[i].append(tuple(map(int, rule.split(' '))))\n",
    "            else:\n",
    "                self.messages.add(line)\n",
    "                \n",
    "        self.evaluate()\n",
    "                \n",
    "    def evaluate(self):\n",
    "        evaluatedRules = {i for i, values in six.iteritems(self.rules) if any(isinstance(v, str) for v in values)}\n",
    "        while len(evaluatedRules) != len(self.rules):\n",
    "            for i in set(self.rules).difference(evaluatedRules):\n",
    "                values = self.rules[i]\n",
    "                if all(v in evaluatedRules for pattern in values for v in pattern):\n",
    "                    newValues = []\n",
    "                    for pattern in values:\n",
    "                        z = [self.rules[j] for j in pattern]\n",
    "                        for w in product(*z):\n",
    "                            w = ''.join(w)\n",
    "                            newValues.append(w)\n",
    "                    self.rules[i] = newValues\n",
    "                    evaluatedRules.add(i)\n",
    "                    \n",
    "    def validate(self):\n",
    "        \n",
    "        for message in self.messages:\n",
    "            if message in self.rules[0]:\n",
    "                n += 1\n",
    "                    "
   ]
  },
  {
   "cell_type": "code",
   "execution_count": 99,
   "metadata": {},
   "outputs": [],
   "source": [
    "z = Solver(DATA)"
   ]
  },
  {
   "cell_type": "code",
   "execution_count": 100,
   "metadata": {},
   "outputs": [
    {
     "data": {
      "text/plain": [
       "{0: ['aaaabb',\n",
       "  'aaabab',\n",
       "  'abbabb',\n",
       "  'abbbab',\n",
       "  'aabaab',\n",
       "  'aabbbb',\n",
       "  'abaaab',\n",
       "  'ababbb'],\n",
       " 1: ['aaab', 'aaba', 'bbab', 'bbba', 'abaa', 'abbb', 'baaa', 'babb'],\n",
       " 2: ['aa', 'bb'],\n",
       " 3: ['ab', 'ba'],\n",
       " 4: ['a'],\n",
       " 5: ['b']}"
      ]
     },
     "execution_count": 100,
     "metadata": {},
     "output_type": "execute_result"
    }
   ],
   "source": [
    "z.rules"
   ]
  },
  {
   "cell_type": "code",
   "execution_count": null,
   "metadata": {},
   "outputs": [],
   "source": []
  }
 ],
 "metadata": {
  "kernelspec": {
   "display_name": "Python 3",
   "language": "python",
   "name": "python3"
  },
  "language_info": {
   "codemirror_mode": {
    "name": "ipython",
    "version": 3
   },
   "file_extension": ".py",
   "mimetype": "text/x-python",
   "name": "python",
   "nbconvert_exporter": "python",
   "pygments_lexer": "ipython3",
   "version": "3.8.2"
  }
 },
 "nbformat": 4,
 "nbformat_minor": 4
}
