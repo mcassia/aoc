{
 "cells": [
  {
   "cell_type": "code",
   "execution_count": null,
   "metadata": {},
   "outputs": [],
   "source": [
    "import six, math"
   ]
  },
  {
   "cell_type": "code",
   "execution_count": 2,
   "metadata": {},
   "outputs": [],
   "source": [
    "DATA = \"\"\"\n",
    "1009310\n",
    "19,x,x,x,x,x,x,x,x,x,x,x,x,37,x,x,x,x,x,599,x,29,x,x,x,x,x,x,x,x,x,x,x,x,x,x,17,x,x,x,x,x,23,x,x,x,x,x,x,x,761,x,x,x,x,x,x,x,x,x,41,x,x,13\n",
    "\"\"\".strip()"
   ]
  },
  {
   "cell_type": "code",
   "execution_count": 3,
   "metadata": {},
   "outputs": [],
   "source": [
    "# The time step after which the first bus to arrive is to be determined;\n",
    "startTimeStep = int(DATA.splitlines()[0].strip())"
   ]
  },
  {
   "cell_type": "code",
   "execution_count": 4,
   "metadata": {},
   "outputs": [],
   "source": [
    "# The schedule of buses based on their index and interval;\n",
    "schedule = DATA.splitlines()[1].strip().split(',')\n",
    "schedule = {t: int(bus) for t, bus in enumerate(schedule) if bus.isdigit()}"
   ]
  },
  {
   "cell_type": "code",
   "execution_count": 5,
   "metadata": {},
   "outputs": [],
   "source": [
    "def lcm(values):\n",
    "    \"\"\"\n",
    "    Returns the least common multiple of the given values; as found at\n",
    "    https://stackoverflow.com/questions/37237954/calculate-the-lcm-of-a-list-of-given-numbers-in-python.\n",
    "    \n",
    "    :param values: list(int,)\n",
    "    :return: int\n",
    "    \"\"\"\n",
    "    z = values[0]\n",
    "    for i in values[1:]:\n",
    "        z = z * i // math.gcd(z, i)\n",
    "    return z"
   ]
  },
  {
   "cell_type": "code",
   "execution_count": 6,
   "metadata": {},
   "outputs": [],
   "source": [
    "def findFirstBusToArriveAfter(schedule, timestep):\n",
    "    \"\"\"\n",
    "    Given a schedule of buses and a timestep, it determines\n",
    "    the first bus to arrive after the timestep; then returns\n",
    "    the product of the waiting time after the start timestep\n",
    "    and the bus identifier.\n",
    "    \n",
    "    :param schedule: dict(butIndex:int, busFrequency:int)\n",
    "    :param timestep: int\n",
    "    :return: int\n",
    "    \"\"\"\n",
    "    arrivalTimeSteps = {}\n",
    "    for bus in six.itervalues(schedule):\n",
    "        currentTimeStep = 0\n",
    "        while currentTimeStep < startTimeStep:\n",
    "            currentTimeStep += bus\n",
    "        arrivalTimeSteps[bus] = currentTimeStep\n",
    "    earliestArrivalTime = min(six.itervalues(arrivalTimeSteps))\n",
    "    earliestBus = next(iter(bus for bus, arrivalTimeStep in six.iteritems(arrivalTimeSteps) if arrivalTimeStep == earliestArrivalTime))\n",
    "    return (earliestArrivalTime - startTimeStep) * earliestBus"
   ]
  },
  {
   "cell_type": "code",
   "execution_count": 7,
   "metadata": {},
   "outputs": [
    {
     "data": {
      "text/plain": [
       "2995"
      ]
     },
     "execution_count": 7,
     "metadata": {},
     "output_type": "execute_result"
    }
   ],
   "source": [
    "findFirstBusToArriveAfter(schedule, startTimeStep)"
   ]
  },
  {
   "cell_type": "code",
   "execution_count": 8,
   "metadata": {},
   "outputs": [],
   "source": [
    "def findTimeStepMatchingPattern(schedule):\n",
    "    \n",
    "    \"\"\"\n",
    "    Given a schedule of buses, it determines when the first occurrence\n",
    "    is of them arriving sequentially one timestep apart from the preceding\n",
    "    one (i.e. first bus arrives at t=n, the second at t=n+1 and so on).\n",
    "    \n",
    "    :param schedule: dict(busIndex:int, busFrequency:int)\n",
    "    :return: int\n",
    "    \"\"\"\n",
    "    \n",
    "    # To solve this, timesteps will be iterated over; however, for\n",
    "    # performance purposes, the increment cannot be the unit, but rather\n",
    "    # an increasing one.\n",
    "    \n",
    "    # The increment starts by being the arrival frequency of the first bus,\n",
    "    # which implies that at every iteration it is known the first bus will be\n",
    "    # arriving. However, at each iteration it is determined whether any other\n",
    "    # bus would be arriving according to the required sequential pattern\n",
    "    # and if that is the case, this is recorded and the increment increased.\n",
    "    \n",
    "    # For instance, if at a certain timestep the first bus is known to arrive,\n",
    "    # but at the next step the second bus will be arriving, then the increment\n",
    "    # can be updated to be the least common multiple (or product if bus frequencies\n",
    "    # are coprimes) of the current increment and the interval for the newly found\n",
    "    # matching bus. At the next step, then both the first and second are guranteed\n",
    "    # to arrive.\n",
    "    \n",
    "    # The intuition behind this is essentially about first learning for sure\n",
    "    # when each of the previously seen buses will arrive, based on that\n",
    "    # tuning expectations based on how long to wait and hoping that at one\n",
    "    # of this known future timesteps new buses will be found.\n",
    "    \n",
    "    intervals = [schedule[0]] # The timestep intervals of accounted buses;\n",
    "    processed = {0}           # The buses accounted for in the timestep intervals;\n",
    "    timeStep = 0              # The current timestep (for the first bus) being inspected;\n",
    "    \n",
    "    interval = lcm(intervals) # The initial increment (i.e. the first bus's frequency);\n",
    "    \n",
    "    while len(processed) < len(schedule):\n",
    "        # Until a time step has not been found for all of buses;\n",
    "        timeStep += interval # Increase the timestep by the common interval;\n",
    "        for i, bus in six.iteritems(schedule):\n",
    "            # For every bus with a known arrival frequency;\n",
    "            if i in processed:\n",
    "                # If the bus was previously encountered, disregard it;\n",
    "                continue\n",
    "            elif (timeStep + i) % bus != 0:\n",
    "                # Otherwise, if the bus would not arrive at the required timestep, disregard it;\n",
    "                continue\n",
    "            else:\n",
    "                # Otherwise, the bus would arrive at the required timestep, that is,\n",
    "                # the time step of the first bus plus the difference in their position\n",
    "                # in the schedule matches the expected value; add it to the set of\n",
    "                # accounted buses, include its interval in the list of bus arrival\n",
    "                # intervals and determine the overall arrival frequency (for the buses\n",
    "                # encountered so far) to be the least-common-multiple of the arrival times\n",
    "                # of the buses encountered so far;\n",
    "                processed.add(i)\n",
    "                intervals.append(bus)\n",
    "                interval = lcm(intervals)\n",
    "                \n",
    "    return timeStep"
   ]
  },
  {
   "cell_type": "code",
   "execution_count": 9,
   "metadata": {},
   "outputs": [
    {
     "data": {
      "text/plain": [
       "1012171816131114"
      ]
     },
     "execution_count": 9,
     "metadata": {},
     "output_type": "execute_result"
    }
   ],
   "source": [
    "findTimeStepMatchingPattern(schedule)"
   ]
  }
 ],
 "metadata": {
  "kernelspec": {
   "display_name": "Python 3",
   "language": "python",
   "name": "python3"
  },
  "language_info": {
   "codemirror_mode": {
    "name": "ipython",
    "version": 3
   },
   "file_extension": ".py",
   "mimetype": "text/x-python",
   "name": "python",
   "nbconvert_exporter": "python",
   "pygments_lexer": "ipython3",
   "version": "3.8.2"
  }
 },
 "nbformat": 4,
 "nbformat_minor": 4
}
