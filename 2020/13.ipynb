{
 "cells": [
  {
   "cell_type": "code",
   "execution_count": 475,
   "metadata": {},
   "outputs": [],
   "source": [
    "import six, math"
   ]
  },
  {
   "cell_type": "markdown",
   "metadata": {},
   "source": [
    "### Utilities"
   ]
  },
  {
   "cell_type": "code",
   "execution_count": 476,
   "metadata": {},
   "outputs": [],
   "source": [
    "def lcm(values):\n",
    "    z = values[0]\n",
    "    for i in values[1:]:\n",
    "        z = z * i // math.gcd(z, i)\n",
    "    return z"
   ]
  },
  {
   "cell_type": "markdown",
   "metadata": {},
   "source": [
    "### Input"
   ]
  },
  {
   "cell_type": "code",
   "execution_count": 457,
   "metadata": {},
   "outputs": [],
   "source": [
    "DATA = \"\"\"\n",
    "1009310\n",
    "19,x,x,x,x,x,x,x,x,x,x,x,x,37,x,x,x,x,x,599,x,29,x,x,x,x,x,x,x,x,x,x,x,x,x,x,17,x,x,x,x,x,23,x,x,x,x,x,x,x,761,x,x,x,x,x,x,x,x,x,41,x,x,13\n",
    "\"\"\".strip()"
   ]
  },
  {
   "cell_type": "code",
   "execution_count": 462,
   "metadata": {},
   "outputs": [],
   "source": [
    "startTimeStep = int(DATA.splitlines()[0].strip())"
   ]
  },
  {
   "cell_type": "code",
   "execution_count": 467,
   "metadata": {},
   "outputs": [],
   "source": [
    "schedule = DATA.splitlines()[1].strip().split(',')\n",
    "schedule = {t: int(bus) for t, bus in enumerate(schedule) if bus.isdigit()}"
   ]
  },
  {
   "cell_type": "markdown",
   "metadata": {},
   "source": [
    "### Part 1\n",
    "To find the first bus arriving after the given timestep, each bus's arrival interval is accumulated repeadetly until it passes the given timestep."
   ]
  },
  {
   "cell_type": "code",
   "execution_count": 468,
   "metadata": {},
   "outputs": [],
   "source": [
    "arrivalTimeSteps = {}"
   ]
  },
  {
   "cell_type": "code",
   "execution_count": 469,
   "metadata": {},
   "outputs": [],
   "source": [
    "for bus in six.itervalues(schedule):\n",
    "    currentTimeStep = 0\n",
    "    while currentTimeStep < startTimeStep:\n",
    "        currentTimeStep += bus\n",
    "    arrivalTimeSteps[bus] = currentTimeStep"
   ]
  },
  {
   "cell_type": "code",
   "execution_count": 472,
   "metadata": {},
   "outputs": [
    {
     "data": {
      "text/plain": [
       "1009315"
      ]
     },
     "execution_count": 472,
     "metadata": {},
     "output_type": "execute_result"
    }
   ],
   "source": [
    "earliestArrivalTime = min(six.itervalues(arrivalTimeSteps))\n",
    "earliestArrivalTime"
   ]
  },
  {
   "cell_type": "code",
   "execution_count": 473,
   "metadata": {},
   "outputs": [
    {
     "data": {
      "text/plain": [
       "599"
      ]
     },
     "execution_count": 473,
     "metadata": {},
     "output_type": "execute_result"
    }
   ],
   "source": [
    "earliestBus = next(iter(bus for bus, arrivalTimeStep in six.iteritems(arrivalTimeSteps) if arrivalTimeStep == earliestArrivalTime))\n",
    "earliestBus"
   ]
  },
  {
   "cell_type": "code",
   "execution_count": 474,
   "metadata": {},
   "outputs": [
    {
     "data": {
      "text/plain": [
       "2995"
      ]
     },
     "execution_count": 474,
     "metadata": {},
     "output_type": "execute_result"
    }
   ],
   "source": [
    "(earliestArrivalTime - startTimeStep) * earliestBus"
   ]
  },
  {
   "cell_type": "markdown",
   "metadata": {},
   "source": [
    "### Part 2\n",
    "To determine when all the buses will arrive sequentially one minute apart as per the given schedule, timesteps are iterated over with increasing increments based on whether suitable arrival times are found for each bus in the schedule."
   ]
  },
  {
   "cell_type": "markdown",
   "metadata": {},
   "source": [
    "The intuition behind this resolution revolves around constantly being able to answer the question \"When will all buses I have seen so far arrive according to the pattern?\".\n",
    "\n",
    "Timesteps are iterated over with changing increments. Starting from the initial timestep, the increment is the interval of the first bus bound to arrive. For each timestep iterated over, it is determined whether any bus (aside from the ones already encountered) is bound to arrive according to the given pattern, that is, at the current timestep added to the difference in arrival schedule from the first bus bound to arrive. If that is the case, the bus is recorded and its arrival frequency added to the list of the ones of all the other encountered buses. The overall inspection increment is then updated to be the least common multiple of all the recorded arrival frequencies. This is because the product all the arrival intervals specifies a timestep at which it guaranteed all the observed buses will arrive again according to the pattern."
   ]
  },
  {
   "cell_type": "code",
   "execution_count": 482,
   "metadata": {},
   "outputs": [],
   "source": [
    "intervals = [schedule[0]] # The timestep intervals of accounted buses;\n",
    "processed = {0}           # The buses accounted for in the timestep intervals;\n",
    "timeStep = 0              # The current timestep (for the first bus) being inspected;"
   ]
  },
  {
   "cell_type": "code",
   "execution_count": 483,
   "metadata": {},
   "outputs": [],
   "source": [
    "interval = lcm(intervals)"
   ]
  },
  {
   "cell_type": "code",
   "execution_count": 484,
   "metadata": {},
   "outputs": [],
   "source": [
    "while len(processed) < len(scheduleMap):\n",
    "    # Until a time step has not been found for all of buses;\n",
    "    timeStep += interval # Increase the timestep by the common interval;\n",
    "    for i, bus in six.iteritems(scheduleMap):\n",
    "        # For every bus with a known arrival frequency;\n",
    "        if i in processed:\n",
    "            # If the bus was previously encountered, disregard it;\n",
    "            continue\n",
    "        elif (timeStep + i) % bus != 0:\n",
    "            # Otherwise, if the bus would not arrive at the required timestep, disregard it;\n",
    "            continue\n",
    "        else:\n",
    "            # Otherwise, the bus would arrive at the required timestep, that is,\n",
    "            # the time step of the first bus plus the difference in their position\n",
    "            # in the schedule; add it to the set of accounted buses, include its\n",
    "            # interval in the list of bus arrival intervals and determine the overall\n",
    "            # arrival frequency (for the buses encountered so far) to be the\n",
    "            # least-common-multiple of the arrival times of the buses encountered so far;\n",
    "            processed.add(i)\n",
    "            intervals.append(bus)\n",
    "            interval = lcm(intervals)"
   ]
  },
  {
   "cell_type": "code",
   "execution_count": 485,
   "metadata": {},
   "outputs": [
    {
     "data": {
      "text/plain": [
       "1012171816131114"
      ]
     },
     "execution_count": 485,
     "metadata": {},
     "output_type": "execute_result"
    }
   ],
   "source": [
    "timeStep"
   ]
  },
  {
   "cell_type": "code",
   "execution_count": null,
   "metadata": {},
   "outputs": [],
   "source": []
  },
  {
   "cell_type": "code",
   "execution_count": null,
   "metadata": {},
   "outputs": [],
   "source": []
  },
  {
   "cell_type": "code",
   "execution_count": null,
   "metadata": {},
   "outputs": [],
   "source": []
  },
  {
   "cell_type": "code",
   "execution_count": null,
   "metadata": {},
   "outputs": [],
   "source": []
  },
  {
   "cell_type": "code",
   "execution_count": null,
   "metadata": {},
   "outputs": [],
   "source": []
  },
  {
   "cell_type": "code",
   "execution_count": null,
   "metadata": {},
   "outputs": [],
   "source": []
  },
  {
   "cell_type": "code",
   "execution_count": null,
   "metadata": {},
   "outputs": [],
   "source": []
  },
  {
   "cell_type": "code",
   "execution_count": null,
   "metadata": {},
   "outputs": [],
   "source": []
  },
  {
   "cell_type": "code",
   "execution_count": null,
   "metadata": {},
   "outputs": [],
   "source": []
  },
  {
   "cell_type": "code",
   "execution_count": null,
   "metadata": {},
   "outputs": [],
   "source": []
  },
  {
   "cell_type": "code",
   "execution_count": null,
   "metadata": {},
   "outputs": [],
   "source": []
  },
  {
   "cell_type": "code",
   "execution_count": null,
   "metadata": {},
   "outputs": [],
   "source": [
    "syncs = {}\n",
    "starters = []\n",
    "diffs = []\n",
    "for k1 in sorted(scheds):\n",
    "    for k2 in sorted(scheds):\n",
    "        if k2 > k1:\n",
    "            \n",
    "            v1 = scheds[k1]\n",
    "            v2 = scheds[k2]\n",
    "            \n",
    "            i = 0\n",
    "            occurrences = []\n",
    "            while len(occurrences) != 2:\n",
    "                if ((i + k2) % v2) == 0:\n",
    "                    occurrences.append(i)\n",
    "                i += v1\n",
    "                \n",
    "            starter = occurrences[0]\n",
    "            diff = occurrences[1] - occurrences[0]\n",
    "            \n",
    "            starters.append(starter)\n",
    "            diffs.append(diff)\n",
    "            \n",
    "            if k1 not in syncs: syncs[k1] = {}\n",
    "            syncs[k1][k2] = (starter, diff)\n",
    "# syncs = [(a, b, starter, diff) for a, x in six.iteritems(syncs) for b, (starter, diff) in six.iteritems(x)]"
   ]
  },
  {
   "cell_type": "code",
   "execution_count": null,
   "metadata": {},
   "outputs": [],
   "source": [
    "syncs"
   ]
  },
  {
   "cell_type": "code",
   "execution_count": null,
   "metadata": {},
   "outputs": [],
   "source": [
    "visited = set()\n",
    "diffs = []\n",
    "starter = None\n",
    "cond = 0\n",
    "for _source, x in six.iteritems(syncs):\n",
    "    for _target, (_starter, _diff) in six.iteritems(x):\n",
    "        if not starter or _starter < starter:\n",
    "            visited = {(_source, _target)}\n",
    "            diffs = [_diff]\n",
    "            starter = _starter\n",
    "        cond += 1"
   ]
  },
  {
   "cell_type": "code",
   "execution_count": null,
   "metadata": {},
   "outputs": [],
   "source": [
    "visited, diffs, starter"
   ]
  },
  {
   "cell_type": "code",
   "execution_count": null,
   "metadata": {},
   "outputs": [],
   "source": [
    "(779210 - starter) / diffs[0]"
   ]
  },
  {
   "cell_type": "code",
   "execution_count": null,
   "metadata": {},
   "outputs": [],
   "source": [
    "i = starter\n",
    "diff = diffs[0]\n",
    "while len(visited) < cond:\n",
    "    \n",
    "    for k1, x in six.iteritems(syncs):\n",
    "        for k2, (starter_, diff_) in six.iteritems(x):\n",
    "            v1, v2 = scheds[k1], scheds[k2]\n",
    "            ks = tuple(sorted([k1, k2]))            \n",
    "            if ks in visited: continue\n",
    "            elif (i % v1) != 0 or (i % v2) != 0: continue\n",
    "\n",
    "            diffs.append(diff_)\n",
    "            diff = lcm(diffs)\n",
    "            visited.add((k1, k2))\n",
    "            \n",
    "            print('ks: ' + str(ks))\n",
    "            print('i: ' + str(i))\n",
    "            print('visited: ' + str(len(visited)))\n",
    "            print('diff: ' + str(diff))\n",
    "    \n",
    "    i += diff\n",
    "    \n",
    "    \n",
    "        "
   ]
  },
  {
   "cell_type": "code",
   "execution_count": null,
   "metadata": {},
   "outputs": [],
   "source": [
    "(779210 - 413) / 469"
   ]
  },
  {
   "cell_type": "code",
   "execution_count": null,
   "metadata": {},
   "outputs": [],
   "source": []
  },
  {
   "cell_type": "code",
   "execution_count": null,
   "metadata": {},
   "outputs": [],
   "source": []
  },
  {
   "cell_type": "code",
   "execution_count": null,
   "metadata": {},
   "outputs": [],
   "source": [
    "lcm([2,3,6])"
   ]
  },
  {
   "cell_type": "code",
   "execution_count": null,
   "metadata": {},
   "outputs": [],
   "source": []
  },
  {
   "cell_type": "code",
   "execution_count": null,
   "metadata": {},
   "outputs": [],
   "source": []
  },
  {
   "cell_type": "code",
   "execution_count": null,
   "metadata": {},
   "outputs": [],
   "source": []
  },
  {
   "cell_type": "code",
   "execution_count": null,
   "metadata": {},
   "outputs": [],
   "source": []
  },
  {
   "cell_type": "code",
   "execution_count": null,
   "metadata": {},
   "outputs": [],
   "source": [
    "i = starter\n",
    "\n",
    "while len(ids) != len(scheds):\n",
    "    \n",
    "    for k, v in six.iteritems(scheds):\n",
    "        if k in ids: continue\n",
    "        elif i % v != 0: continue\n",
    "            \n",
    "        \n",
    "            \n",
    "                \n",
    "                \n",
    "                \n",
    "    \n",
    "#     print('i: {}'.format(str(i)))\n",
    "#     print('diff: {}'.format(str(diff)))\n",
    "    \n",
    "#     for k, v in six.iteritems(scheds):\n",
    "        \n",
    "#         if k in ids: continue\n",
    "#         elif (i % v) != 0: continue\n",
    "            \n",
    "#         print('k: {}'.format(str(k)))\n",
    "#         print('v: {}'.format(str(v)))\n",
    "            \n",
    "#         for idd in ids:\n",
    "#             ids_ = sorted([k, idd])\n",
    "#             print('ids_: {}'.format(str(ids_)))\n",
    "#             extra = syncs[ids_[0]][ids_[1]][1]\n",
    "#             print('extra: {}'.format(str(extra)))\n",
    "#             diff *= extra\n",
    "\n",
    "                \n",
    "#         ids.append(k)\n",
    "                \n",
    "#     i += diff\n",
    "            \n",
    "    \n",
    "    "
   ]
  },
  {
   "cell_type": "code",
   "execution_count": null,
   "metadata": {},
   "outputs": [],
   "source": [
    "i"
   ]
  },
  {
   "cell_type": "code",
   "execution_count": null,
   "metadata": {},
   "outputs": [],
   "source": []
  },
  {
   "cell_type": "code",
   "execution_count": null,
   "metadata": {},
   "outputs": [],
   "source": []
  },
  {
   "cell_type": "code",
   "execution_count": null,
   "metadata": {},
   "outputs": [],
   "source": []
  },
  {
   "cell_type": "code",
   "execution_count": null,
   "metadata": {},
   "outputs": [],
   "source": []
  },
  {
   "cell_type": "code",
   "execution_count": null,
   "metadata": {},
   "outputs": [],
   "source": []
  },
  {
   "cell_type": "code",
   "execution_count": null,
   "metadata": {},
   "outputs": [],
   "source": []
  },
  {
   "cell_type": "code",
   "execution_count": null,
   "metadata": {},
   "outputs": [],
   "source": []
  },
  {
   "cell_type": "code",
   "execution_count": null,
   "metadata": {},
   "outputs": [],
   "source": []
  },
  {
   "cell_type": "code",
   "execution_count": null,
   "metadata": {},
   "outputs": [],
   "source": []
  },
  {
   "cell_type": "code",
   "execution_count": null,
   "metadata": {},
   "outputs": [],
   "source": [
    "gaps = [(scheds[sorted(scheds)[0]], scheds[sorted(scheds)[0]])]\n",
    "for k2 in sorted(scheds)[1:]:\n",
    "    \n",
    "    v2 = scheds[k2]\n",
    "    k1 = sorted(scheds)[0]\n",
    "    v1 = scheds[k1]\n",
    "    \n",
    "    i = 0\n",
    "    occurrences = []\n",
    "    while len(occurrences) != 2:\n",
    "        if ((i + k2) % v2) == 0:\n",
    "            occurrences.append(i)\n",
    "        i += v1\n",
    "        \n",
    "    gaps.append((occurrences[0], occurrences[1] - occurrences[0]))\n",
    "gaps"
   ]
  },
  {
   "cell_type": "code",
   "execution_count": null,
   "metadata": {},
   "outputs": [],
   "source": [
    "starters = [x[0] for x in gaps]\n",
    "starters"
   ]
  },
  {
   "cell_type": "code",
   "execution_count": null,
   "metadata": {},
   "outputs": [],
   "source": [
    "diffs = [x[1] for x in gaps]\n",
    "diffs"
   ]
  },
  {
   "cell_type": "code",
   "execution_count": null,
   "metadata": {},
   "outputs": [],
   "source": [
    "lcm(starters)"
   ]
  },
  {
   "cell_type": "code",
   "execution_count": null,
   "metadata": {},
   "outputs": [],
   "source": []
  },
  {
   "cell_type": "code",
   "execution_count": null,
   "metadata": {},
   "outputs": [],
   "source": []
  },
  {
   "cell_type": "code",
   "execution_count": null,
   "metadata": {},
   "outputs": [],
   "source": []
  },
  {
   "cell_type": "code",
   "execution_count": null,
   "metadata": {},
   "outputs": [],
   "source": []
  },
  {
   "cell_type": "code",
   "execution_count": null,
   "metadata": {},
   "outputs": [],
   "source": []
  },
  {
   "cell_type": "code",
   "execution_count": null,
   "metadata": {},
   "outputs": [],
   "source": []
  },
  {
   "cell_type": "code",
   "execution_count": null,
   "metadata": {},
   "outputs": [],
   "source": []
  },
  {
   "cell_type": "code",
   "execution_count": null,
   "metadata": {},
   "outputs": [],
   "source": [
    "maxx = lcm(diffs)\n",
    "maxx"
   ]
  },
  {
   "cell_type": "code",
   "execution_count": null,
   "metadata": {},
   "outputs": [],
   "source": [
    "# possibilities = []\n",
    "# for starter, diff in gaps:\n",
    "#     c = starter\n",
    "#     p = set()\n",
    "#     while c < maxx:\n",
    "#         p.add(c)\n",
    "#         c += diff\n",
    "#     possibilities.append(p)"
   ]
  },
  {
   "cell_type": "code",
   "execution_count": null,
   "metadata": {},
   "outputs": [],
   "source": []
  },
  {
   "cell_type": "code",
   "execution_count": null,
   "metadata": {},
   "outputs": [],
   "source": []
  },
  {
   "cell_type": "code",
   "execution_count": null,
   "metadata": {},
   "outputs": [],
   "source": []
  },
  {
   "cell_type": "code",
   "execution_count": null,
   "metadata": {},
   "outputs": [],
   "source": [
    "maxx = prod(six.itervalues(scheds))"
   ]
  },
  {
   "cell_type": "code",
   "execution_count": null,
   "metadata": {},
   "outputs": [],
   "source": []
  },
  {
   "cell_type": "code",
   "execution_count": null,
   "metadata": {},
   "outputs": [],
   "source": []
  },
  {
   "cell_type": "code",
   "execution_count": null,
   "metadata": {},
   "outputs": [],
   "source": []
  },
  {
   "cell_type": "code",
   "execution_count": null,
   "metadata": {},
   "outputs": [],
   "source": []
  },
  {
   "cell_type": "code",
   "execution_count": null,
   "metadata": {},
   "outputs": [],
   "source": []
  },
  {
   "cell_type": "code",
   "execution_count": null,
   "metadata": {},
   "outputs": [],
   "source": []
  },
  {
   "cell_type": "code",
   "execution_count": null,
   "metadata": {},
   "outputs": [],
   "source": []
  },
  {
   "cell_type": "code",
   "execution_count": null,
   "metadata": {},
   "outputs": [],
   "source": [
    "K, V = None, None\n",
    "for k, v in six.iteritems(scheds):\n",
    "    if not V or v > V:\n",
    "        K, V = k, v\n",
    "K, V"
   ]
  },
  {
   "cell_type": "code",
   "execution_count": null,
   "metadata": {},
   "outputs": [],
   "source": []
  },
  {
   "cell_type": "code",
   "execution_count": null,
   "metadata": {},
   "outputs": [],
   "source": []
  },
  {
   "cell_type": "code",
   "execution_count": null,
   "metadata": {},
   "outputs": [],
   "source": []
  },
  {
   "cell_type": "code",
   "execution_count": null,
   "metadata": {},
   "outputs": [],
   "source": []
  },
  {
   "cell_type": "code",
   "execution_count": null,
   "metadata": {},
   "outputs": [],
   "source": []
  },
  {
   "cell_type": "code",
   "execution_count": null,
   "metadata": {},
   "outputs": [],
   "source": []
  },
  {
   "cell_type": "code",
   "execution_count": null,
   "metadata": {},
   "outputs": [],
   "source": []
  },
  {
   "cell_type": "code",
   "execution_count": null,
   "metadata": {},
   "outputs": [],
   "source": []
  },
  {
   "cell_type": "code",
   "execution_count": null,
   "metadata": {},
   "outputs": [],
   "source": [
    "maxx = prod(six.itervalues(scheds))"
   ]
  },
  {
   "cell_type": "code",
   "execution_count": null,
   "metadata": {},
   "outputs": [],
   "source": [
    "possibilities = set()"
   ]
  },
  {
   "cell_type": "code",
   "execution_count": null,
   "metadata": {},
   "outputs": [],
   "source": [
    "def divisors(x, top):\n",
    "    while top > 0:\n",
    "        yield top\n",
    "        top = top - x"
   ]
  },
  {
   "cell_type": "code",
   "execution_count": null,
   "metadata": {},
   "outputs": [],
   "source": [
    "for i, k in enumerate(sorted(scheds, key=lambda k: -scheds[k])):\n",
    "    v = scheds[k]\n",
    "    print(i, k, v)\n",
    "    if i == 0:\n",
    "        possibilities = set(divisors(v, maxx + k))"
   ]
  },
  {
   "cell_type": "code",
   "execution_count": null,
   "metadata": {},
   "outputs": [],
   "source": []
  },
  {
   "cell_type": "code",
   "execution_count": null,
   "metadata": {},
   "outputs": [],
   "source": []
  },
  {
   "cell_type": "code",
   "execution_count": null,
   "metadata": {},
   "outputs": [],
   "source": []
  },
  {
   "cell_type": "code",
   "execution_count": null,
   "metadata": {},
   "outputs": [],
   "source": []
  },
  {
   "cell_type": "code",
   "execution_count": null,
   "metadata": {},
   "outputs": [],
   "source": []
  },
  {
   "cell_type": "code",
   "execution_count": null,
   "metadata": {},
   "outputs": [],
   "source": [
    "i = maxx\n",
    "sol = None\n",
    "step = 0"
   ]
  },
  {
   "cell_type": "code",
   "execution_count": null,
   "metadata": {},
   "outputs": [],
   "source": [
    "while not sol:\n",
    "    for k, v in six.iteritems(scheds):\n",
    "        if (i+k) % v == 0: continue\n",
    "        else: break\n",
    "    else: sol = i\n",
    "    i -= scheds[0]\n",
    "    step += 1\n",
    "    if step % 10000000 == 0:\n",
    "        print(100. * i / maxx)\n",
    "sol"
   ]
  },
  {
   "cell_type": "code",
   "execution_count": null,
   "metadata": {},
   "outputs": [],
   "source": []
  },
  {
   "cell_type": "code",
   "execution_count": null,
   "metadata": {},
   "outputs": [],
   "source": []
  },
  {
   "cell_type": "code",
   "execution_count": null,
   "metadata": {},
   "outputs": [],
   "source": []
  },
  {
   "cell_type": "code",
   "execution_count": null,
   "metadata": {},
   "outputs": [],
   "source": [
    "(x-0) % 61 == 0\n",
    "(x-1) % 59 == 0\n",
    "(x-2) % 7  == 0\n",
    "(x-3) % 67 == 0"
   ]
  },
  {
   "cell_type": "code",
   "execution_count": null,
   "metadata": {},
   "outputs": [],
   "source": [
    "x % 61 == 0\n",
    "x % 59 == 1\n",
    "x % 7  == 2\n",
    "x % 67 == 3"
   ]
  },
  {
   "cell_type": "code",
   "execution_count": null,
   "metadata": {},
   "outputs": [],
   "source": [
    "a * 61 + 0 == x\n",
    "b * 59 + 1 == x\n",
    "c * 7  + 2 == x\n",
    "d * 67 + 3 == x"
   ]
  },
  {
   "cell_type": "code",
   "execution_count": null,
   "metadata": {},
   "outputs": [],
   "source": []
  },
  {
   "cell_type": "code",
   "execution_count": null,
   "metadata": {},
   "outputs": [],
   "source": []
  },
  {
   "cell_type": "code",
   "execution_count": null,
   "metadata": {},
   "outputs": [],
   "source": []
  },
  {
   "cell_type": "code",
   "execution_count": null,
   "metadata": {},
   "outputs": [],
   "source": []
  },
  {
   "cell_type": "code",
   "execution_count": null,
   "metadata": {},
   "outputs": [],
   "source": []
  },
  {
   "cell_type": "code",
   "execution_count": null,
   "metadata": {},
   "outputs": [],
   "source": [
    "K, V = None, None\n",
    "for k, v in six.iteritems(scheds):\n",
    "    if not V or v > V:\n",
    "        K, V = k, v\n",
    "K, V"
   ]
  },
  {
   "cell_type": "code",
   "execution_count": null,
   "metadata": {},
   "outputs": [],
   "source": [
    "i = 0\n",
    "while True:\n",
    "    \n",
    "    for k, v in six.iteritems"
   ]
  },
  {
   "cell_type": "code",
   "execution_count": null,
   "metadata": {},
   "outputs": [],
   "source": []
  },
  {
   "cell_type": "code",
   "execution_count": null,
   "metadata": {},
   "outputs": [],
   "source": []
  },
  {
   "cell_type": "code",
   "execution_count": null,
   "metadata": {},
   "outputs": [],
   "source": []
  },
  {
   "cell_type": "code",
   "execution_count": null,
   "metadata": {},
   "outputs": [],
   "source": []
  },
  {
   "cell_type": "code",
   "execution_count": null,
   "metadata": {},
   "outputs": [],
   "source": []
  },
  {
   "cell_type": "code",
   "execution_count": null,
   "metadata": {},
   "outputs": [],
   "source": []
  },
  {
   "cell_type": "code",
   "execution_count": null,
   "metadata": {},
   "outputs": [],
   "source": []
  },
  {
   "cell_type": "code",
   "execution_count": null,
   "metadata": {},
   "outputs": [],
   "source": []
  },
  {
   "cell_type": "code",
   "execution_count": null,
   "metadata": {},
   "outputs": [],
   "source": []
  },
  {
   "cell_type": "code",
   "execution_count": null,
   "metadata": {},
   "outputs": [],
   "source": [
    "i = 0\n",
    "sol = None\n",
    "while not sol:\n",
    "    \n",
    "    vals = []\n",
    "    \n",
    "    for k, v in six.iteritems(scheds):\n",
    "        dk = k - K\n",
    "        if k == K: continue\n",
    "        elif (i + dk) % v == 0: vals.append(i+dk)\n",
    "        else: break\n",
    "    else: sol = min(vals)\n",
    "    \n",
    "    i += V\n",
    "    \n",
    "print(sol)"
   ]
  },
  {
   "cell_type": "code",
   "execution_count": null,
   "metadata": {},
   "outputs": [],
   "source": []
  },
  {
   "cell_type": "code",
   "execution_count": null,
   "metadata": {},
   "outputs": [],
   "source": []
  },
  {
   "cell_type": "code",
   "execution_count": null,
   "metadata": {},
   "outputs": [],
   "source": []
  },
  {
   "cell_type": "code",
   "execution_count": null,
   "metadata": {},
   "outputs": [],
   "source": [
    "# def validate(x, schedule):\n",
    "    \n",
    "#     k = min(schedule)\n",
    "    \n",
    "#     if x % schedule[k] == 0:\n",
    "#         clone = dict(schedule)\n",
    "#         clone.pop(k)\n",
    "#         if not clone:\n",
    "#             return True\n",
    "#         else:\n",
    "#             return validate(x + min(clone) - k, clone)\n",
    "#     else:\n",
    "#         return False\n",
    "    "
   ]
  },
  {
   "cell_type": "code",
   "execution_count": null,
   "metadata": {},
   "outputs": [],
   "source": []
  },
  {
   "cell_type": "code",
   "execution_count": null,
   "metadata": {},
   "outputs": [],
   "source": []
  },
  {
   "cell_type": "code",
   "execution_count": null,
   "metadata": {},
   "outputs": [],
   "source": []
  },
  {
   "cell_type": "code",
   "execution_count": null,
   "metadata": {},
   "outputs": [],
   "source": []
  },
  {
   "cell_type": "code",
   "execution_count": null,
   "metadata": {},
   "outputs": [],
   "source": []
  },
  {
   "cell_type": "code",
   "execution_count": null,
   "metadata": {},
   "outputs": [],
   "source": []
  },
  {
   "cell_type": "code",
   "execution_count": null,
   "metadata": {},
   "outputs": [],
   "source": []
  },
  {
   "cell_type": "code",
   "execution_count": null,
   "metadata": {},
   "outputs": [],
   "source": [
    "# from math import gcd\n",
    "# a = list(six.itervalues(scheds))\n",
    "# lcm = a[0]\n",
    "# for i in a[1:]:\n",
    "#     lcm = lcm*i//gcd(lcm, i)\n",
    "# print(lcm)"
   ]
  },
  {
   "cell_type": "code",
   "execution_count": null,
   "metadata": {},
   "outputs": [],
   "source": [
    "# z = {}"
   ]
  },
  {
   "cell_type": "code",
   "execution_count": null,
   "metadata": {},
   "outputs": [],
   "source": [
    "# for v in six.itervalues(scheds):\n",
    "#     print(v)\n",
    "#     acc = 0\n",
    "#     while acc < lcm:\n",
    "#         if acc not in z:\n",
    "#             z[acc] = set()\n",
    "#         z[acc].add(v)\n",
    "#         acc += v"
   ]
  },
  {
   "cell_type": "code",
   "execution_count": null,
   "metadata": {},
   "outputs": [],
   "source": [
    "t = 0\n",
    "z = {}\n",
    "gap = 100000"
   ]
  },
  {
   "cell_type": "code",
   "execution_count": null,
   "metadata": {},
   "outputs": [],
   "source": [
    "while True:\n",
    "    \n",
    "    \n",
    "    \n",
    "\n",
    "    for k1, values in six.iteritems(z):\n",
    "        if scheds[0] in values:\n",
    "            for k2, v in six.iteritems(scheds):\n",
    "                if k1+k2 in z and v in z[k1+k2]:\n",
    "                    continue # good\n",
    "                else:\n",
    "                    break\n",
    "            else:\n",
    "                print(k1)\n",
    "                break"
   ]
  },
  {
   "cell_type": "code",
   "execution_count": null,
   "metadata": {},
   "outputs": [],
   "source": []
  },
  {
   "cell_type": "code",
   "execution_count": null,
   "metadata": {},
   "outputs": [],
   "source": []
  },
  {
   "cell_type": "code",
   "execution_count": null,
   "metadata": {},
   "outputs": [],
   "source": []
  },
  {
   "cell_type": "code",
   "execution_count": null,
   "metadata": {},
   "outputs": [],
   "source": []
  },
  {
   "cell_type": "code",
   "execution_count": null,
   "metadata": {},
   "outputs": [],
   "source": []
  },
  {
   "cell_type": "code",
   "execution_count": null,
   "metadata": {},
   "outputs": [],
   "source": []
  },
  {
   "cell_type": "code",
   "execution_count": null,
   "metadata": {},
   "outputs": [],
   "source": [
    "gap = 100000\n",
    "sol = None\n",
    "while not sol:\n",
    "    \n",
    "    for bid in six.itervalues(scheds):\n",
    "        if (t % bid) == 0:\n",
    "            z[t] = z.get(t, set()).union({bid})\n",
    "            \n",
    "    t += 1\n",
    "    \n",
    "    \n",
    "    if t and t % gap == 0:\n",
    "        \n",
    "        print(t)\n",
    "        \n",
    "        for i in range(t - gap, t):\n",
    "            if i in z and z[i] == {scheds[0]}:\n",
    "                \n",
    "                for k, v in six.iteritems(scheds):\n",
    "                    if i+k in z and v in z[i+k]:\n",
    "                        continue # good\n",
    "                    else:\n",
    "                        break\n",
    "                else:\n",
    "                    sol = i\n",
    "                    break\n",
    "                    \n",
    "    \n",
    "i"
   ]
  },
  {
   "cell_type": "code",
   "execution_count": null,
   "metadata": {},
   "outputs": [],
   "source": []
  },
  {
   "cell_type": "code",
   "execution_count": null,
   "metadata": {},
   "outputs": [],
   "source": []
  },
  {
   "cell_type": "code",
   "execution_count": null,
   "metadata": {},
   "outputs": [],
   "source": []
  },
  {
   "cell_type": "code",
   "execution_count": null,
   "metadata": {},
   "outputs": [],
   "source": []
  },
  {
   "cell_type": "code",
   "execution_count": null,
   "metadata": {},
   "outputs": [],
   "source": []
  },
  {
   "cell_type": "code",
   "execution_count": null,
   "metadata": {},
   "outputs": [],
   "source": [
    "z = dict(scheds)\n",
    "i = 0"
   ]
  },
  {
   "cell_type": "code",
   "execution_count": null,
   "metadata": {},
   "outputs": [],
   "source": [
    "while True:\n",
    "    \n",
    "    if i % 100000 == 0:\n",
    "        pass\n",
    "#         print(i)\n",
    "    \n",
    "    minimumValue, minimumKey = None, None\n",
    "    \n",
    "    for k, v in six.iteritems(z):\n",
    "        if not minimumValue or minimumValue > v:\n",
    "            minimumValue, minimumKey = v, k\n",
    "            break\n",
    "            \n",
    "    print(z)\n",
    "            \n",
    "    z[minimumKey] += scheds[minimumKey]\n",
    "    \n",
    "    precedingKey = None\n",
    "    for k in sorted(z):\n",
    "        if precedingKey != None:\n",
    "            if z[k] - z[precedingKey] == k - precedingKey:\n",
    "                continue\n",
    "            else:\n",
    "                break\n",
    "        precedingKey = k\n",
    "    else:\n",
    "        print('good!')\n",
    "        print(z)\n",
    "        \n",
    "    i += 1\n",
    "            \n",
    "        "
   ]
  },
  {
   "cell_type": "code",
   "execution_count": null,
   "metadata": {},
   "outputs": [],
   "source": []
  },
  {
   "cell_type": "code",
   "execution_count": null,
   "metadata": {},
   "outputs": [],
   "source": []
  },
  {
   "cell_type": "code",
   "execution_count": null,
   "metadata": {},
   "outputs": [],
   "source": []
  },
  {
   "cell_type": "code",
   "execution_count": null,
   "metadata": {},
   "outputs": [],
   "source": []
  },
  {
   "cell_type": "code",
   "execution_count": null,
   "metadata": {},
   "outputs": [],
   "source": []
  },
  {
   "cell_type": "code",
   "execution_count": null,
   "metadata": {},
   "outputs": [],
   "source": []
  }
 ],
 "metadata": {
  "kernelspec": {
   "display_name": "Python 3",
   "language": "python",
   "name": "python3"
  },
  "language_info": {
   "codemirror_mode": {
    "name": "ipython",
    "version": 3
   },
   "file_extension": ".py",
   "mimetype": "text/x-python",
   "name": "python",
   "nbconvert_exporter": "python",
   "pygments_lexer": "ipython3",
   "version": "3.8.2"
  }
 },
 "nbformat": 4,
 "nbformat_minor": 4
}
