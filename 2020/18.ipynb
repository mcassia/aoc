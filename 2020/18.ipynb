{
 "cells": [
  {
   "cell_type": "code",
   "execution_count": 1,
   "metadata": {},
   "outputs": [],
   "source": [
    "import six\n",
    "import numpy as np"
   ]
  },
  {
   "cell_type": "code",
   "execution_count": 269,
   "metadata": {},
   "outputs": [],
   "source": [
    "DATA = \"\"\"\n",
    "5 + 6 * 9 + 5 + 5 + (7 * 2)\n",
    "2 + (3 + 7 + 7) * 5 + 9 + (5 + (4 + 5 + 3 + 6) + 8 * 5 + (7 + 4 + 7 + 6 + 9) + 9)\n",
    "(5 * 4 + 7 + 4 + 8) + 9 * ((5 * 4) + 2 + (6 + 2 + 8 + 7 + 4 + 5)) * 5\n",
    "4 * ((4 + 9 + 3 * 3 * 5) * 3 + 2 + 2 * (9 * 2 + 3)) + 5 * ((8 * 3 * 6) + 9 * 4 + (5 + 4 * 7 + 7)) * 7 * (9 + 2 * 2)\n",
    "5 * 6 + ((8 + 9) * 5 * 9 + 4 + (9 + 3 * 9))\n",
    "(3 * (3 + 3) * 9 + (6 + 9 * 8) + 5) + 5\n",
    "6 * (9 * 6 * 9)\n",
    "\"\"\".strip()"
   ]
  },
  {
   "cell_type": "code",
   "execution_count": 270,
   "metadata": {},
   "outputs": [],
   "source": [
    "def solve(tokens):\n",
    "    \n",
    "    \"\"\"\n",
    "    Given the token representation of the expression, it\n",
    "    evaluates it to calculate the result.\n",
    "    \n",
    "    :param tokens: list(str|int|list)\n",
    "    :return: int\n",
    "    \"\"\"\n",
    "    \n",
    "    def evaluate(x):\n",
    "        if isinstance(x, int): return x\n",
    "        elif isinstance(x, list): return solve(x)\n",
    "        else: raise\n",
    "    \n",
    "    i, value = 1, evaluate(tokens[0])\n",
    "    \n",
    "    while i < len(tokens):\n",
    "        token = tokens[i]\n",
    "        if   token == '+': value += evaluate(tokens[i+1])\n",
    "        elif token == '*': value *= evaluate(tokens[i+1])\n",
    "        elif token == '/': value /= evaluate(tokens[i+1])\n",
    "        elif token == '-': value -= evaluate(tokens[i+1])\n",
    "        else: raise\n",
    "        i += 2\n",
    "        \n",
    "    return value"
   ]
  },
  {
   "cell_type": "code",
   "execution_count": 271,
   "metadata": {},
   "outputs": [],
   "source": [
    "def priority(tokens, operators=None):\n",
    "    \n",
    "    \"\"\"\n",
    "    Given the token representation of the expression, it\n",
    "    applies the prioritisation rules for the given (or \n",
    "    default operators).\n",
    "    \n",
    "    :param tokens: list(str|int|list)\n",
    "    :return: list(str|int|list)\n",
    "    \"\"\"\n",
    "    \n",
    "    operators = operators or ('+',)\n",
    "    i = 0\n",
    "    while i < len(tokens):\n",
    "        token = tokens[i]\n",
    "        if isinstance(token, list):\n",
    "            tokens[i] = priority(token)\n",
    "            i += 1\n",
    "        elif token in operators:\n",
    "            token = tokens[i-1:i+1] + [priority(tokens[i+1]) if isinstance(tokens[i+1], list) else tokens[i+1]]\n",
    "            tokens = tokens[:i-1] + tokens[i+2:]\n",
    "            tokens.insert(i-1, token)\n",
    "            i += 0\n",
    "        else:\n",
    "            i += 1\n",
    "    return tokens"
   ]
  },
  {
   "cell_type": "code",
   "execution_count": 272,
   "metadata": {},
   "outputs": [],
   "source": [
    "def tokenise(expression):\n",
    "    \n",
    "    \"\"\"\n",
    "    Given a numerical expreession comprised of numbers,\n",
    "    operators and parenthesis, it constructs a tokenised\n",
    "    tree representation.\n",
    "    \n",
    "    :param expression: str\n",
    "    :return: list(str|int|list)\n",
    "    \"\"\"\n",
    "    \n",
    "    expression = expression.replace('(', '( ').replace(')', ' )')\n",
    "    tokens = [int(token) if token.isdigit() else token for token in expression.split(' ')]   \n",
    "    fetch = lambda lst, depth: fetch(lst[-1], depth-1) if depth else lst\n",
    "    atokens, level = [], 0\n",
    "    for token in tokens:\n",
    "        if token == '(':\n",
    "            fetch(atokens, level).append([])\n",
    "            level += 1\n",
    "        elif token == ')': level -= 1\n",
    "        else: fetch(atokens, level).append(token)                 \n",
    "    return atokens"
   ]
  },
  {
   "cell_type": "code",
   "execution_count": 273,
   "metadata": {},
   "outputs": [],
   "source": [
    "calculate = lambda expression: solve(tokenise(expression))"
   ]
  },
  {
   "cell_type": "code",
   "execution_count": 274,
   "metadata": {},
   "outputs": [
    {
     "data": {
      "text/plain": [
       "6387925487"
      ]
     },
     "execution_count": 274,
     "metadata": {},
     "output_type": "execute_result"
    }
   ],
   "source": [
    "sum(calculate(e) for e in DATA.splitlines())"
   ]
  },
  {
   "cell_type": "code",
   "execution_count": 275,
   "metadata": {},
   "outputs": [],
   "source": [
    "calculate = lambda expression: solve(priority(tokenise(expression)))"
   ]
  },
  {
   "cell_type": "code",
   "execution_count": 276,
   "metadata": {},
   "outputs": [
    {
     "data": {
      "text/plain": [
       "926330723780"
      ]
     },
     "execution_count": 276,
     "metadata": {},
     "output_type": "execute_result"
    }
   ],
   "source": [
    "sum(calculate(e) for e in DATA.splitlines())"
   ]
  },
  {
   "cell_type": "code",
   "execution_count": null,
   "metadata": {},
   "outputs": [],
   "source": []
  }
 ],
 "metadata": {
  "kernelspec": {
   "display_name": "Python 3",
   "language": "python",
   "name": "python3"
  },
  "language_info": {
   "codemirror_mode": {
    "name": "ipython",
    "version": 3
   },
   "file_extension": ".py",
   "mimetype": "text/x-python",
   "name": "python",
   "nbconvert_exporter": "python",
   "pygments_lexer": "ipython3",
   "version": "3.8.2"
  }
 },
 "nbformat": 4,
 "nbformat_minor": 4
}
