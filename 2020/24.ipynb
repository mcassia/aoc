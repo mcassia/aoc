{
 "cells": [
  {
   "cell_type": "code",
   "execution_count": 172,
   "metadata": {},
   "outputs": [],
   "source": [
    "DATA = \"\"\"\n",
    "sesenwnenenewseeswwswswwnenewsewsw\n",
    "neeenesenwnwwswnenewnwwsewnenwseswesw\n",
    "seswneswswsenwwnwse\n",
    "nwnwneseeswswnenewneswwnewseswneseene\n",
    "swweswneswnenwsewnwneneseenw\n",
    "eesenwseswswnenwswnwnwsewwnwsene\n",
    "sewnenenenesenwsewnenwwwse\n",
    "wenwwweseeeweswwwnwwe\n",
    "wsweesenenewnwwnwsenewsenwwsesesenwne\n",
    "neeswseenwwswnwswswnw\n",
    "nenwswwsewswnenenewsenwsenwnesesenew\n",
    "enewnwewneswsewnwswenweswnenwsenwsw\n",
    "sweneswneswneneenwnewenewwneswswnese\n",
    "swwesenesewenwneswnwwneseswwne\n",
    "enesenwswwswneneswsenwnewswseenwsese\n",
    "wnwnesenesenenwwnenwsewesewsesesew\n",
    "nenewswnwewswnenesenwnesewesw\n",
    "eneswnwswnwsenenwnwnwwseeswneewsenese\n",
    "neswnwewnwnwseenwseesewsenwsweewe\n",
    "wseweeenwnesenwwwswnew\n",
    "\"\"\".strip()"
   ]
  },
  {
   "cell_type": "code",
   "execution_count": 173,
   "metadata": {},
   "outputs": [],
   "source": [
    "class Solver:\n",
    "    \n",
    "    \"\"\"Utility to solve AoC's 2020 24th task.\"\"\"\n",
    "    \n",
    "    def __init__(self, instructions):\n",
    "        \n",
    "        \"\"\"\n",
    "        Initiates the utility given the textual instructions.\n",
    "        \n",
    "        :param instructions: str\n",
    "        \"\"\"        \n",
    "        \n",
    "        # To convert directions to (x, y) disaplcements;\n",
    "        self.directions = {\n",
    "            \"nw\": (-0.5, 1),\n",
    "            \"ne\": (0.5, 1),\n",
    "            \"se\": (0.5, -1),\n",
    "            \"sw\": (-0.5, -1),\n",
    "            \"w\": (-1, 0),\n",
    "            \"e\": (1, 0),\n",
    "        }\n",
    "        \n",
    "        # The collection of instructions to reach tiles;\n",
    "        self.instructions = []\n",
    "        for row in instructions.splitlines():\n",
    "            self.instructions.append([])\n",
    "            i = 0\n",
    "            while i < len(row):\n",
    "                for d in self.directions:\n",
    "                    if row[i:].startswith(d):\n",
    "                        self.instructions[-1].append(d)\n",
    "                        break\n",
    "                i += len(self.instructions[-1][-1])\n",
    "        \n",
    "        # The record of all manipulated tiles and their colour;\n",
    "        self.tiles = {}\n",
    "        \n",
    "    def solve(self):\n",
    "        \n",
    "        \"\"\"\n",
    "        For each instruction, determines the tile identified by\n",
    "        the steps in it and flips its colour.\n",
    "        \"\"\"\n",
    "        \n",
    "        for instructions in self.instructions:\n",
    "            x, y = 0, 0\n",
    "            for instruction in instructions:\n",
    "                dx, dy = self.directions[instruction]\n",
    "                x, y = x + dx, y + dy\n",
    "            self.flip(x, y)\n",
    "            \n",
    "    def neighbours(self, x, y):\n",
    "        \n",
    "        \"\"\"\n",
    "        Yields all neighbouring tiles of the tile at the given\n",
    "        coordinates.\n",
    "        \n",
    "        :param x: int\n",
    "        :param y: int\n",
    "        :yield: (int, int), bool\n",
    "        \"\"\"\n",
    "        \n",
    "        for dx, dy in self.directions.values():\n",
    "            nx, ny = x + dx, y + dy\n",
    "            yield (nx, ny), self.read(nx, ny)\n",
    "            \n",
    "    def write(self, x, y, v):\n",
    "        \n",
    "        \"\"\"\n",
    "        Updates the colour of the tile at the given coordinates.\n",
    "        \n",
    "        :param x: int\n",
    "        :param y: int\n",
    "        :param v: bool\n",
    "        \"\"\"\n",
    "        \n",
    "        self.tiles[(x, y)] = v\n",
    "        \n",
    "    def flip(self, x, y):\n",
    "        \n",
    "        \"\"\"\n",
    "        Flips the colour of the tile at the given coordinates.\n",
    "        \n",
    "        :param x: int\n",
    "        :param y: int\n",
    "        \"\"\"\n",
    "        \n",
    "        self.write(x, y, not self.read(x, y))\n",
    "        \n",
    "    def read(self, x, y):\n",
    "        \"\"\"\n",
    "        Returns the colour of the tile at the given coordinates.\n",
    "        \n",
    "        :param x: int\n",
    "        :param y: int\n",
    "        \"\"\"\n",
    "        return self.tiles.get((x, y), True)\n",
    "    \n",
    "    def black(self):\n",
    "        \"\"\"\n",
    "        Counts how many black tiles there are.\n",
    "        \n",
    "        :return: int\n",
    "        \"\"\"\n",
    "        return sum(not tile for tile in self.tiles.values())    \n",
    "    \n",
    "    def step(self):\n",
    "        \n",
    "        \"\"\"\n",
    "        Performs the daily step in the pattern update, as per\n",
    "        the given rules.\n",
    "        \"\"\"\n",
    "        \n",
    "        # First, do explicitly write all neighbouring tiles of\n",
    "        # any black tile: since the default is white, only tiles\n",
    "        # that have been written at least one are recorded;\n",
    "        # the following operation ensures that all white tile\n",
    "        # which neighbour a black tile are checked for updating;\n",
    "        for (x, y), v in dict(self.tiles).items():\n",
    "            if not v:\n",
    "                for (x, y), v in self.neighbours(x, y):\n",
    "                    self.write(x, y, v)\n",
    "        \n",
    "        # Record all tiles which need to be updated, as the update\n",
    "        # needs to be simultaneous for all tiles;\n",
    "        updates = set()\n",
    "        for (x, y), v in self.tiles.items():\n",
    "            neighbours = set(self.neighbours(x, y))\n",
    "            black = sum(not v for _, v in neighbours)\n",
    "            if not v and (black == 0 or black > 2):\n",
    "                updates.add((x, y))\n",
    "            elif v and black == 2:\n",
    "                updates.add((x, y))\n",
    "                \n",
    "        # Update all tiles;\n",
    "        for (x, y) in updates:\n",
    "            self.flip(x, y)"
   ]
  },
  {
   "cell_type": "code",
   "execution_count": 174,
   "metadata": {},
   "outputs": [],
   "source": [
    "s = Solver(DATA)"
   ]
  },
  {
   "cell_type": "code",
   "execution_count": 175,
   "metadata": {},
   "outputs": [],
   "source": [
    "s.solve()"
   ]
  },
  {
   "cell_type": "code",
   "execution_count": 176,
   "metadata": {},
   "outputs": [
    {
     "data": {
      "text/plain": [
       "10"
      ]
     },
     "execution_count": 176,
     "metadata": {},
     "output_type": "execute_result"
    }
   ],
   "source": [
    "s.black()"
   ]
  },
  {
   "cell_type": "code",
   "execution_count": 177,
   "metadata": {},
   "outputs": [],
   "source": [
    "for _ in range(100):\n",
    "    s.step()"
   ]
  },
  {
   "cell_type": "code",
   "execution_count": 178,
   "metadata": {},
   "outputs": [
    {
     "data": {
      "text/plain": [
       "2208"
      ]
     },
     "execution_count": 178,
     "metadata": {},
     "output_type": "execute_result"
    }
   ],
   "source": [
    "s.black()"
   ]
  }
 ],
 "metadata": {
  "kernelspec": {
   "display_name": "Python 3",
   "language": "python",
   "name": "python3"
  },
  "language_info": {
   "codemirror_mode": {
    "name": "ipython",
    "version": 3
   },
   "file_extension": ".py",
   "mimetype": "text/x-python",
   "name": "python",
   "nbconvert_exporter": "python",
   "pygments_lexer": "ipython3",
   "version": "3.8.2"
  }
 },
 "nbformat": 4,
 "nbformat_minor": 4
}
