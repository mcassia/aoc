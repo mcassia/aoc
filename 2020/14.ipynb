{
 "cells": [
  {
   "cell_type": "code",
   "execution_count": 96,
   "metadata": {},
   "outputs": [],
   "source": [
    "import six"
   ]
  },
  {
   "cell_type": "code",
   "execution_count": 97,
   "metadata": {},
   "outputs": [],
   "source": [
    "DATA = \"\"\"\n",
    "mask = 000000000000000000000000000000X1001X\n",
    "mem[42] = 100\n",
    "mask = 00000000000000000000000000000000X0XX\n",
    "mem[26] = 1\n",
    "\"\"\".strip()"
   ]
  },
  {
   "cell_type": "code",
   "execution_count": 98,
   "metadata": {},
   "outputs": [],
   "source": [
    "def binaryStringToNumericDecimal(s):\n",
    "    \"\"\"\n",
    "    Converts the given (string'd) binary number to the\n",
    "    equivalent (int'd) decimal number.\n",
    "    \n",
    "    :param s: str\n",
    "    :return: int\n",
    "    \"\"\"\n",
    "    return int(s, 2)"
   ]
  },
  {
   "cell_type": "code",
   "execution_count": 99,
   "metadata": {},
   "outputs": [],
   "source": [
    "def numericDecimalToBinaryString(n, pad=None):\n",
    "    \"\"\"\n",
    "    Converts the given (int'd) decimal number to the\n",
    "    equivalent (string'd) binary number. Optionally,\n",
    "    the output can be (zero) padded.\n",
    "    \n",
    "    :param n: int\n",
    "    :param pad: int\n",
    "    :return: s\n",
    "    \"\"\"\n",
    "    s = str(bin(n))[2:]\n",
    "    if pad: s = s.rjust(pad, '0')\n",
    "    return s"
   ]
  },
  {
   "cell_type": "code",
   "execution_count": 100,
   "metadata": {},
   "outputs": [],
   "source": [
    "def _execute1(instructions):\n",
    "    \n",
    "    \"\"\"\n",
    "    Given a memory instructions and a mask, it proceeds to apply the\n",
    "    instructions and to keep track of the memory status, which is\n",
    "    eventually returned along with the sum of all values in memory.\n",
    "    \n",
    "    In this mode of execution, the mask specifies a transformation\n",
    "    to be applied to the contents stored in memory.\n",
    "    \n",
    "    :param instructions: list(str,)\n",
    "    :return: memory:dict(address:int, content:int), contentSum:int\n",
    "    \"\"\"\n",
    "    \n",
    "    mask, memory = {}, {}\n",
    "    \n",
    "    for line in instructions:\n",
    "        # For every instruction line, extract the command name and its argument;\n",
    "        command, content = tuple(line.split(' = '))\n",
    "        if command == 'mask':\n",
    "            # If the instruction is an update to the mask, store the mapping\n",
    "            # between the bit index and its overwriting value;\n",
    "            mask = {i: c for i, c in enumerate(content) if c in ('0', '1')}\n",
    "        elif command.startswith('mem'):\n",
    "            # If the instruction is an update or addition to memory, first\n",
    "            # extract the memory location;\n",
    "            address = int(command.split('[')[1].split(']')[0])\n",
    "            # Then extract the value to be stored (as a decimal integer);\n",
    "            value = int(content)\n",
    "            # Then cast it to 36-bit long binary string;\n",
    "            value = numericDecimalToBinaryString(value, pad=36)\n",
    "            # Update the bits based on the mask;\n",
    "            value = {i: mask.get(i, c) for i, c in enumerate(value)}\n",
    "            # Then merge it back to a string;\n",
    "            value = ''.join([value[i] for i in range(36)])\n",
    "            # And cast it back to a decimal integer to be stored;\n",
    "            value = binaryStringToNumericDecimal(value)\n",
    "            memory[address] = value\n",
    "    \n",
    "    return memory, sum(six.itervalues(memory))"
   ]
  },
  {
   "cell_type": "code",
   "execution_count": 101,
   "metadata": {},
   "outputs": [],
   "source": [
    "def _execute2(instructions):\n",
    "    \n",
    "    \"\"\"\n",
    "    Given a memory instructions and a mask, it proceeds to apply the\n",
    "    instructions and to keep track of the memory status, which is\n",
    "    eventually returned along with the sum of all values in memory.\n",
    "    \n",
    "    In this mode of execution, the mask specifies a transformation\n",
    "    to be applied to the memory address.\n",
    "    \n",
    "    :param instructions: list(str,)\n",
    "    :return: memory:dict(address:int, content:int), contentSum:int\n",
    "    \"\"\"\n",
    "    \n",
    "    mask, memory = {}, {}\n",
    "    \n",
    "    for line in instructions:\n",
    "        # For every instruction line, extract the command name and its argument;\n",
    "        command, content = tuple(line.split(' = '))\n",
    "        if command == 'mask':\n",
    "            # If the instruction is an update to the mask, store the mapping\n",
    "            # between the bit index and its operation;\n",
    "            mask = {i: c for i, c in enumerate(content)}\n",
    "        elif command.startswith('mem'):\n",
    "            # If the instruction is an update or addition to memory, first\n",
    "            # extract the memory location;\n",
    "            address = int(command.split('[')[1].split(']')[0])\n",
    "            # Cast the decimal integer address to a binary string;\n",
    "            address = numericDecimalToBinaryString(address, pad=36)\n",
    "            # Then generate a mapping between the index of each bit in the\n",
    "            # address and its value;            \n",
    "            address = {i: c for i, c in enumerate(address)}\n",
    "            # Apply the mask to the address, preserving every address bit\n",
    "            # for which the mask bit is 0, else update it to be the value\n",
    "            # in the mask;\n",
    "            for i, c in six.iteritems(mask):\n",
    "                address[i] = address[i] if c == '0' else c\n",
    "            # Merge the address back to a binary string;\n",
    "            address = ''.join([address[i] for i in range(36)])\n",
    "            # Evaluate the new address to determine all the real addresses\n",
    "            # to which it maps, based on the X values added by the mask;\n",
    "            if 'X' in address:\n",
    "                # Track all 'floating' address bits;\n",
    "                addresses, floating = [], [i for i, c in enumerate(address) if c == 'X']\n",
    "                # For as many times as there are permutations of the floating values;\n",
    "                for j in range(2 ** len(floating)):\n",
    "                    # Convert the binary string address to a list of binary characters;\n",
    "                    a = [c for c in address]\n",
    "                    # Determine the binary values to be filled in by converting\n",
    "                    # the permutation iteration index to a binary string;\n",
    "                    evaluated = numericDecimalToBinaryString(j, len(floating))\n",
    "                    # Replace the floating values with the values in the determined\n",
    "                    # binary value of the permutation iteration index;\n",
    "                    for l, k in enumerate(floating):\n",
    "                        a[k] = evaluated[l]\n",
    "                    # Merge back the address to a binary string and add it to the list\n",
    "                    # of addresses to be updated;\n",
    "                    addresses.append(''.join(a))\n",
    "            else:\n",
    "                # If there are no floating bits in the address, then the address us the\n",
    "                # only one to be updated;\n",
    "                addresses = [address]\n",
    "            \n",
    "            # Update all found addressed with the operation argument value;\n",
    "            for address in addresses:\n",
    "                memory[binaryStringToNumericDecimal(address)] = int(content)\n",
    "\n",
    "    return memory, sum(six.itervalues(memory))"
   ]
  },
  {
   "cell_type": "code",
   "execution_count": 102,
   "metadata": {},
   "outputs": [],
   "source": [
    "def execute(mode, instructions):\n",
    "    if mode == 1: return _execute1(instructions)\n",
    "    elif mode == 2: return _execute2(instructions)\n",
    "    else: raise NotImplementedError('Only execution modes 1 and 2 are available')"
   ]
  },
  {
   "cell_type": "code",
   "execution_count": 103,
   "metadata": {},
   "outputs": [],
   "source": [
    "instructions = DATA.splitlines()"
   ]
  },
  {
   "cell_type": "code",
   "execution_count": 104,
   "metadata": {},
   "outputs": [
    {
     "data": {
      "text/plain": [
       "(51, 208)"
      ]
     },
     "execution_count": 104,
     "metadata": {},
     "output_type": "execute_result"
    }
   ],
   "source": [
    "_, firstResult = execute(1, instructions)\n",
    "_, secondResult = execute(2, instructions)\n",
    "firstResult, secondResult"
   ]
  }
 ],
 "metadata": {
  "kernelspec": {
   "display_name": "Python 3",
   "language": "python",
   "name": "python3"
  },
  "language_info": {
   "codemirror_mode": {
    "name": "ipython",
    "version": 3
   },
   "file_extension": ".py",
   "mimetype": "text/x-python",
   "name": "python",
   "nbconvert_exporter": "python",
   "pygments_lexer": "ipython3",
   "version": "3.8.2"
  }
 },
 "nbformat": 4,
 "nbformat_minor": 4
}
