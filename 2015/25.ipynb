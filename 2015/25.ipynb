{
 "cells": [
  {
   "cell_type": "code",
   "execution_count": 74,
   "metadata": {},
   "outputs": [],
   "source": [
    "def build(initial, multiplier, divisor, target):\n",
    "    \n",
    "    \"\"\"\n",
    "    Constructs a table iteratively based on the rules of AoC's 2015 25th task.\n",
    "    \n",
    "        \"The codes are printed on an infinite sheet of paper, starting in the\n",
    "        top-left corner. The codes are filled in by diagonals: starting with\n",
    "        the first row with an empty first box, the codes are filled in\n",
    "        diagonally up and to the right. This process repeats until the infinite\n",
    "        paper is covered.\"\n",
    "        \n",
    "    At each location, the value inserted is the remainder of the division by a\n",
    "    given divisor of the product of the previously added value and a given\n",
    "    multiplier.\n",
    "    \n",
    "    Iteration terminates once the value for the given target location is found\n",
    "    and that is returned.\n",
    "    \n",
    "    :param initial: int\n",
    "    :param multiplier: int\n",
    "    :param divisor: int\n",
    "    :param target: (int, int)\n",
    "    :return: int\n",
    "        \n",
    "    \"\"\"\n",
    "        \n",
    "    grid, (row, column) = [[initial]], (1, 1)\n",
    "\n",
    "    while (row, column) != target:\n",
    "\n",
    "        value = grid[row-1][column-1]\n",
    "\n",
    "        row, column = (row - 1, column + 1) if row > 1 else (column + 1, 1)\n",
    "\n",
    "        if len(grid) < row:\n",
    "            grid.append([])\n",
    "\n",
    "        grid[row-1].append((value * multiplier) % divisor)\n",
    "\n",
    "    row, column = target\n",
    "        \n",
    "    return grid[row-1][column-1]"
   ]
  },
  {
   "cell_type": "code",
   "execution_count": 75,
   "metadata": {},
   "outputs": [
    {
     "data": {
      "text/plain": [
       "9132360"
      ]
     },
     "execution_count": 75,
     "metadata": {},
     "output_type": "execute_result"
    }
   ],
   "source": [
    "run(20151125, 252533, 33554393, (2981, 3075))"
   ]
  }
 ],
 "metadata": {
  "kernelspec": {
   "display_name": "Python 3",
   "language": "python",
   "name": "python3"
  },
  "language_info": {
   "codemirror_mode": {
    "name": "ipython",
    "version": 3
   },
   "file_extension": ".py",
   "mimetype": "text/x-python",
   "name": "python",
   "nbconvert_exporter": "python",
   "pygments_lexer": "ipython3",
   "version": "3.8.2"
  }
 },
 "nbformat": 4,
 "nbformat_minor": 4
}
